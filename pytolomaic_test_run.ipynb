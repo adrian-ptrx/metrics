{
 "cells": [
  {
   "cell_type": "code",
   "execution_count": 1,
   "metadata": {},
   "outputs": [],
   "source": [
    "# conda create --name gds_metrics pip ipykernel python==3.7.3\n",
    "# conda activate gds_metrics\n",
    "# pip install -r ~/dev/metrics/Pytolemaic/requirements.txt\n",
    "# pip install dill \n",
    "# find ~/opt/anaconda3/envs/gds_metrics/ |grep pytol\n"
   ]
  },
  {
   "cell_type": "code",
   "execution_count": 2,
   "metadata": {},
   "outputs": [
    {
     "data": {
      "text/plain": [
       "['/Users/adriansarno/dev/metrics',\n",
       " '/Users/adriansarno/dev/metrics',\n",
       " '/Users/adriansarno/Library/Python/3.8/bin',\n",
       " '/Users/adriansarno/opt/anaconda3/envs/gds_metrics/lib/python37.zip',\n",
       " '/Users/adriansarno/opt/anaconda3/envs/gds_metrics/lib/python3.7',\n",
       " '/Users/adriansarno/opt/anaconda3/envs/gds_metrics/lib/python3.7/lib-dynload',\n",
       " '',\n",
       " '/Users/adriansarno/opt/anaconda3/envs/gds_metrics/lib/python3.7/site-packages',\n",
       " '/Users/adriansarno/opt/anaconda3/envs/gds_metrics/lib/python3.7/site-packages/IPython/extensions',\n",
       " '/Users/adriansarno/.ipython',\n",
       " '/Users/adriansarno/dev/metrics/Pytolemaic/']"
      ]
     },
     "execution_count": 2,
     "metadata": {},
     "output_type": "execute_result"
    }
   ],
   "source": [
    "# NOT FOR DEV: pip install --no-deps ../Pytolemaic_ptrx/dist/pytolemaic-0.13.14-py3-none-any.whl \n",
    "import sys\n",
    "sys.path.append('/Users/adriansarno/dev/metrics/Pytolemaic/')\n",
    "sys.path"
   ]
  },
  {
   "cell_type": "code",
   "execution_count": 3,
   "metadata": {},
   "outputs": [
    {
     "name": "stdout",
     "output_type": "stream",
     "text": [
      "sklearn: 0.21.3,  numpy: 1.19.5,  pandas: 0.25.3,   python: 3.7.3\n"
     ]
    }
   ],
   "source": [
    "import numpy as np\n",
    "import pandas as pd\n",
    "\n",
    "from pprint import pprint\n",
    "from matplotlib import pyplot as plt\n",
    "import copy\n",
    "import dill\n",
    "\n",
    "import sklearn\n",
    "import sklearn.datasets\n",
    "import sklearn.model_selection\n",
    "from sklearn.tree import DecisionTreeClassifier\n",
    "from sklearn.ensemble import RandomForestRegressor\n",
    "from sklearn.impute import SimpleImputer\n",
    "from sklearn.pipeline import Pipeline\n",
    "from sklearn.model_selection import train_test_split\n",
    "#\n",
    "from pytolemaic.pytrust import PyTrust\n",
    "from pytolemaic.utils.dmd import DMD\n",
    "from pytolemaic import Metrics\n",
    "from pytolemaic import PyTrust\n",
    "from pytolemaic.utils.general import GeneralUtils\n",
    "\n",
    "print(f'sklearn: {sklearn.__version__},  numpy: {np.__version__},  pandas: {pd.__version__},   python: {sys.version_info.major}.{sys.version_info.minor}.{sys.version_info.micro}')"
   ]
  },
  {
   "cell_type": "code",
   "execution_count": 4,
   "metadata": {},
   "outputs": [],
   "source": [
    "import warnings\n",
    "warnings.filterwarnings(\"ignore\")"
   ]
  },
  {
   "cell_type": "markdown",
   "metadata": {},
   "source": [
    "## Feature Sensitivity  (1 of 3)\n",
    "* * *"
   ]
  },
  {
   "cell_type": "markdown",
   "metadata": {},
   "source": [
    "#### Recommended Actions\n",
    "\n",
    "Feature Importance Report\n",
    "- Focus effort to improve features with high sensitivity. \n",
    "- Discard features with very low sensitivity as, statistically.\n",
    "\n",
    "Vulnerability Report\n",
    "\n",
    "    Imputation\n",
    "    - High values indicate that the imputation mechanism affects the result and thus is important to ensure that it is working correctly.\n",
    "\n",
    "    Data leakage\n",
    "    - This mean that the model may be paying attentlin to the wrong data. Obviously any leaks must be removed.\n",
    "\n",
    "    Too many features \n",
    "    1.  higher chance for overfitting\n",
    "    2.  waste of effort in the data engineering phase. \n",
    "\n",
    "        Consider performing feature selection or introducing more regularization.\n"
   ]
  },
  {
   "cell_type": "code",
   "execution_count": 5,
   "metadata": {},
   "outputs": [],
   "source": [
    "data = sklearn.datasets.fetch_california_housing(return_X_y=False)\n",
    "\n",
    "x = data['data']\n",
    "y = data['target']\n",
    "feature_names = data['feature_names']\n",
    "\n",
    "train_inds, test_inds = \\\n",
    "    sklearn.model_selection.train_test_split(np.arange(len(data['data'])), test_size=0.3)\n",
    "\n",
    "xtrain, ytrain = x[train_inds], y[train_inds]\n",
    "xtest, ytest = x[test_inds], y[test_inds]\n"
   ]
  },
  {
   "cell_type": "code",
   "execution_count": 6,
   "metadata": {},
   "outputs": [
    {
     "data": {
      "text/plain": [
       "Pipeline(memory=None,\n",
       "         steps=[('Imputer',\n",
       "                 SimpleImputer(add_indicator=False, copy=True, fill_value=None,\n",
       "                               missing_values=nan, strategy='mean',\n",
       "                               verbose=0)),\n",
       "                ('Estimator',\n",
       "                 RandomForestRegressor(bootstrap=True, criterion='mse',\n",
       "                                       max_depth=None, max_features='auto',\n",
       "                                       max_leaf_nodes=None,\n",
       "                                       min_impurity_decrease=0.0,\n",
       "                                       min_impurity_split=None,\n",
       "                                       min_samples_leaf=1, min_samples_split=2,\n",
       "                                       min_weight_fraction_leaf=0.0,\n",
       "                                       n_estimators=100, n_jobs=None,\n",
       "                                       oob_score=False, random_state=0,\n",
       "                                       verbose=0, warm_start=False))],\n",
       "         verbose=False)"
      ]
     },
     "execution_count": 6,
     "metadata": {},
     "output_type": "execute_result"
    }
   ],
   "source": [
    "# Adding imputer before RF to support missing values.\n",
    "# Support missing values is required for calculating sensitivities to missing values \n",
    "steps = []\n",
    "steps.append(('Imputer', SimpleImputer()))\n",
    "steps.append(('Estimator', RandomForestRegressor(random_state=0, n_estimators=100)))\n",
    "estimator = Pipeline(steps=steps)\n",
    "\n",
    "estimator.fit(xtrain, ytrain)"
   ]
  },
  {
   "cell_type": "code",
   "execution_count": 7,
   "metadata": {},
   "outputs": [],
   "source": [
    "pytrust = PyTrust(\n",
    "    model=estimator,\n",
    "    xtrain=xtrain, ytrain=ytrain,\n",
    "    xtest=xtest, ytest=ytest,\n",
    "    columns_meta={DMD.FEATURE_NAMES: feature_names},\n",
    "    metric='mae')"
   ]
  },
  {
   "cell_type": "markdown",
   "metadata": {},
   "source": [
    "\n",
    "- [Required] The trained model, the training set, a holdout testing set and the metric you are using to evaluate the model.\n",
    "* [Optional] Class labels, splitting strategy\n",
    "* [Optional] Columns’ metadata: e.g. feature names, feature types, feature encoding\n",
    "* [Optional] Samples’ metadata: e.g. sample weights\n"
   ]
  },
  {
   "cell_type": "code",
   "execution_count": 8,
   "metadata": {},
   "outputs": [],
   "source": [
    "sensitivity_report = pytrust.sensitivity_report"
   ]
  },
  {
   "cell_type": "code",
   "execution_count": 9,
   "metadata": {},
   "outputs": [
    {
     "name": "stdout",
     "output_type": "stream",
     "text": [
      "{'missing_report': {'method': 'missing',\n",
      "                    'sensitivities': {'AveBedrms': 0.02738,\n",
      "                                      'AveOccup': 0.12876,\n",
      "                                      'AveRooms': 0.04654,\n",
      "                                      'HouseAge': 0.05386,\n",
      "                                      'Latitude': 0.23858,\n",
      "                                      'Longitude': 0.23956,\n",
      "                                      'MedInc': 0.24333,\n",
      "                                      'Population': 0.02198},\n",
      "                    'stats': {'n_features': 8, 'n_low': 0, 'n_very_low': 0, 'n_zero': 0}},\n",
      " 'shuffle_report': {'method': 'shuffled',\n",
      "                    'sensitivities': {'AveBedrms': 0.02565,\n",
      "                                      'AveOccup': 0.13835,\n",
      "                                      'AveRooms': 0.0529,\n",
      "                                      'HouseAge': 0.05973,\n",
      "                                      'Latitude': 0.21815,\n",
      "                                      'Longitude': 0.18806,\n",
      "                                      'MedInc': 0.29324,\n",
      "                                      'Population': 0.02391},\n",
      "                    'stats': {'n_features': 8, 'n_low': 0, 'n_very_low': 0, 'n_zero': 0}},\n",
      " 'vulnerability_report': {'imputation': 0.3575728155339805, 'leakage': 0.0, 'too_many_features': 0.0}}\n"
     ]
    }
   ],
   "source": [
    "# use pprint for pretty print.\n",
    "pprint(sensitivity_report.to_dict(), width=120)"
   ]
  },
  {
   "cell_type": "code",
   "execution_count": 10,
   "metadata": {
    "scrolled": true
   },
   "outputs": [
    {
     "data": {
      "image/png": "[encoded data removed]",
      "text/plain": [
       "<Figure size 720x720 with 4 Axes>"
      ]
     },
     "metadata": {
      "needs_background": "light"
     },
     "output_type": "display_data"
    },
    {
     "data": {
      "image/png": "[encoded data removed]",
      "text/plain": [
       "<Figure size 432x288 with 1 Axes>"
      ]
     },
     "metadata": {
      "needs_background": "light"
     },
     "output_type": "display_data"
    }
   ],
   "source": [
    "sensitivity_report.plot()"
   ]
  },
  {
   "cell_type": "code",
   "execution_count": 11,
   "metadata": {
    "scrolled": true
   },
   "outputs": [
    {
     "name": "stdout",
     "output_type": "stream",
     "text": [
      "{'missing_report': {'method': 'Method used to calculate sensitivity',\n",
      "                    'sensitivities': 'key-value dictionary where the key is feature name and value '\n",
      "                                     'is feature sensitivity',\n",
      "                    'stats': {'n_features': 'Number of features in dataset',\n",
      "                              'n_low': 'Number of feature with low sensitivity (sensitivity lower '\n",
      "                                       'than 5% of max sensitivity)',\n",
      "                              'n_very_low': 'Number of feature with low sensitivity (sensitivity '\n",
      "                                            'lower than 5% of max sensitivity)',\n",
      "                              'n_zero': 'Number of feature with zero sensitivity'}},\n",
      " 'shuffle_report': {'method': 'Method used to calculate sensitivity',\n",
      "                    'sensitivities': 'key-value dictionary where the key is feature name and value '\n",
      "                                     'is feature sensitivity',\n",
      "                    'stats': {'n_features': 'Number of features in dataset',\n",
      "                              'n_low': 'Number of feature with low sensitivity (sensitivity lower '\n",
      "                                       'than 5% of max sensitivity)',\n",
      "                              'n_very_low': 'Number of feature with low sensitivity (sensitivity '\n",
      "                                            'lower than 5% of max sensitivity)',\n",
      "                              'n_zero': 'Number of feature with zero sensitivity'}},\n",
      " 'vulnerability_report': {'imputation': 'Sensitivity of the features should be similar in all '\n",
      "                                        'methods. If not, this may indicate an issue with the '\n",
      "                                        'imputation process. Higher value means the imputation '\n",
      "                                        'process has higher impact on the model.',\n",
      "                          'leakage': 'Measure how likely the model is prone to data leakage.',\n",
      "                          'too_many_features': \"Using many features slow down model's training, \"\n",
      "                                               'affect data pipeline and preprocessing and may '\n",
      "                                               'also make model more susceptible to overfit. '\n",
      "                                               'Higher value means there are many redundant '\n",
      "                                               'features in dataset.'}}\n"
     ]
    }
   ],
   "source": [
    "pprint(sensitivity_report.to_dict_meaning(), width=100)"
   ]
  },
  {
   "cell_type": "markdown",
   "metadata": {},
   "source": [
    "# Scoring Reports\n",
    "* * *"
   ]
  },
  {
   "cell_type": "markdown",
   "metadata": {},
   "source": [
    "##  Regression (2 of 3)"
   ]
  },
  {
   "cell_type": "markdown",
   "metadata": {},
   "source": [
    "In the case of a regression task, the uncertainty value represents an error bar, having the same scale as the target variable."
   ]
  },
  {
   "cell_type": "markdown",
   "metadata": {},
   "source": [
    "#### Regression Metrics\n",
    "* MAE: an estimation of the absolute error based on a regressor trained on the absolute error of the test set predictions.\n",
    "* RMSE: an estimation of the absolute error based on a regressor trained on the squared error of the test set predictions."
   ]
  },
  {
   "cell_type": "code",
   "execution_count": 12,
   "metadata": {},
   "outputs": [
    {
     "name": "stderr",
     "output_type": "stream",
     "text": [
      "WARNING:root:Feature types are not available, skipping label encoding\n",
      "WARNING:root:Feature types are not available, skipping label encoding\n"
     ]
    },
    {
     "name": "stdout",
     "output_type": "stream",
     "text": [
      "{'classification_report': None,\n",
      " 'confusion_matrix': None,\n",
      " 'metric_scores': {'mae': {'ci_high': 0.34222, 'ci_low': 0.33505, 'ci_ratio': 0.021173239623783747, 'value': 0.34045},\n",
      "                   'mape': {'ci_high': 0.19351, 'ci_low': 0.18834, 'ci_ratio': 0.027078695822967028, 'value': 0.19245},\n",
      "                   'mse': {'ci_high': 0.27863, 'ci_low': 0.26983, 'ci_ratio': 0.032089851584436335, 'value': 0.27642},\n",
      "                   'normalized_rmse': {'ci_high': 0.45182,\n",
      "                                       'ci_low': 0.4434,\n",
      "                                       'ci_ratio': 0.01881101852058708,\n",
      "                                       'value': 0.44874},\n",
      "                   'r2': {'ci_high': 0.80339, 'ci_low': 0.79586, 'ci_ratio': 0.037579538365564755, 'value': 0.79863},\n",
      "                   'rmse': {'ci_high': 0.52786, 'ci_low': 0.51945, 'ci_ratio': 0.016060192302183744, 'value': 0.52575}},\n",
      " 'scatter': {'error_bars': array([0.08146538, 0.21071861, 0.19613407, ..., 0.21615792, 0.55862295,\n",
      "       0.53670672]),\n",
      "             'y_pred': array([0.63273  , 2.3546   , 1.36186  , ..., 1.19301  , 2.3042206,\n",
      "       2.37299  ]),\n",
      "             'y_true': array([0.707, 2.435, 1.25 , ..., 1.211, 1.823, 2.992])},\n",
      " 'target_metric': 'mae'}\n"
     ]
    }
   ],
   "source": [
    "scoring_report = pytrust.scoring_report\n",
    "\n",
    "pprint(scoring_report.to_dict(), width=120)\n"
   ]
  },
  {
   "cell_type": "code",
   "execution_count": 13,
   "metadata": {},
   "outputs": [],
   "source": [
    "#??scoring_report"
   ]
  },
  {
   "cell_type": "code",
   "execution_count": 14,
   "metadata": {},
   "outputs": [
    {
     "name": "stdout",
     "output_type": "stream",
     "text": [
      "{'classification_report': \"Sklearn's classification report\",\n",
      " 'confusion_matrix': 'Confusion matrix (y_true vs y_pred). Available only for classifiers.',\n",
      " 'metric_scores': 'Score information for various metrics saved in a dict structure where key is the metric name and '\n",
      "                  'value is of type ScoringMetricReport',\n",
      " 'scatter': 'Scatter information (y_true vs y_pred). Available only for regressors.',\n",
      " 'target_metric': 'Metric of interest'}\n"
     ]
    }
   ],
   "source": [
    "pprint(scoring_report.to_dict_meaning(), width=120)"
   ]
  },
  {
   "cell_type": "code",
   "execution_count": 15,
   "metadata": {},
   "outputs": [
    {
     "data": {
      "image/png": "[encoded data removed]",
      "text/plain": [
       "<Figure size 864x360 with 2 Axes>"
      ]
     },
     "metadata": {
      "needs_background": "light"
     },
     "output_type": "display_data"
    },
    {
     "data": {
      "image/png": "[encoded data removed]",
      "text/plain": [
       "<Figure size 864x864 with 6 Axes>"
      ]
     },
     "metadata": {
      "needs_background": "light"
     },
     "output_type": "display_data"
    }
   ],
   "source": [
    "scoring_report.plot()"
   ]
  },
  {
   "cell_type": "markdown",
   "metadata": {},
   "source": [
    "## Classification (3 0f 3)"
   ]
  },
  {
   "cell_type": "code",
   "execution_count": 16,
   "metadata": {},
   "outputs": [],
   "source": [
    "# Dataset: xtrain, ytrain, xtest, ytest\n",
    "data = sklearn.datasets.load_wine(return_X_y=False)\n",
    "data['target'] = np.asarray([int(int(x)>0) for x in data['target']])\n",
    "data['target_names'] = data['target_names'][:2]\n",
    "\n",
    "feature_names = data['feature_names']\n",
    "labels = data['target_names']\n",
    "x = data['data']\n",
    "y = data['target']\n",
    "\n",
    "train_inds, test_inds = sklearn.model_selection.train_test_split(\n",
    "    np.arange(len(data['data'])), test_size=0.3)\n",
    "\n",
    "xtrain, ytrain = x[train_inds], y[train_inds]\n",
    "xtest, ytest = x[test_inds], y[test_inds]"
   ]
  },
  {
   "cell_type": "code",
   "execution_count": 17,
   "metadata": {},
   "outputs": [
    {
     "data": {
      "text/plain": [
       "DecisionTreeClassifier(class_weight=None, criterion='gini', max_depth=None,\n",
       "                       max_features=None, max_leaf_nodes=None,\n",
       "                       min_impurity_decrease=0.0, min_impurity_split=None,\n",
       "                       min_samples_leaf=1, min_samples_split=2,\n",
       "                       min_weight_fraction_leaf=0.0, presort=False,\n",
       "                       random_state=None, splitter='best')"
      ]
     },
     "execution_count": 17,
     "metadata": {},
     "output_type": "execute_result"
    }
   ],
   "source": [
    "# Train estimator\n",
    "estimator = DecisionTreeClassifier()\n",
    "estimator.fit(xtrain, ytrain)"
   ]
  },
  {
   "cell_type": "code",
   "execution_count": 18,
   "metadata": {},
   "outputs": [],
   "source": [
    "# Initiating PyTrust\n",
    "pytrust = PyTrust(\n",
    "    model=estimator,\n",
    "    xtrain=xtrain, ytrain=ytrain,\n",
    "    xtest=xtest, ytest=ytest,\n",
    "    metric='recall')"
   ]
  },
  {
   "cell_type": "code",
   "execution_count": 19,
   "metadata": {},
   "outputs": [
    {
     "name": "stdout",
     "output_type": "stream",
     "text": [
      "1 - 1\n",
      "0 - 0\n",
      "1 - 1\n",
      "0 - 0\n",
      "1 - 1\n",
      "0 - 0\n",
      "0 - 0\n",
      "1 - 1\n",
      "1 - 1\n",
      "1 - 1\n",
      "0 - 0\n",
      "0 - 0\n",
      "1 - [0. 1.]\n",
      "0 - [1. 0.]\n",
      "1 - [0. 1.]\n",
      "0 - [1. 0.]\n",
      "1 - [0. 1.]\n",
      "0 - [1. 0.]\n",
      "0 - [1. 0.]\n",
      "1 - [0. 1.]\n",
      "1 - [0. 1.]\n",
      "1 - [0. 1.]\n",
      "0 - [1. 0.]\n",
      "0 - [1. 0.]\n",
      "0 - [1. 0.]\n",
      "1 - [0. 1.]\n",
      "0 - [1. 0.]\n",
      "1 - [0. 1.]\n",
      "0 - [1. 0.]\n",
      "0 - [1. 0.]\n",
      "1 - [0. 1.]\n",
      "1 - [0. 1.]\n",
      "0 - [1. 0.]\n",
      "1 - [0. 1.]\n",
      "1 - [0. 1.]\n",
      "1 - [0. 1.]\n",
      "1 - [0. 1.]\n",
      "0 - [1. 0.]\n",
      "0 - [1. 0.]\n",
      "1 - [0. 1.]\n",
      "1 - [0. 1.]\n",
      "1 - [0. 1.]\n",
      "1 - [0. 1.]\n",
      "1 - [0. 1.]\n",
      "1 - [0. 1.]\n",
      "0 - [1. 0.]\n",
      "0 - [1. 0.]\n",
      "1 - [0. 1.]\n",
      "1 - [0. 1.]\n",
      "0 - [1. 0.]\n",
      "1 - [0. 1.]\n",
      "0 - [1. 0.]\n",
      "1 - [0. 1.]\n",
      "0 - [1. 0.]\n",
      "0 - [1. 0.]\n",
      "0 - [1. 0.]\n",
      "1 - [0. 1.]\n",
      "1 - [1. 0.]\n",
      "0 - [1. 0.]\n",
      "0 - [1. 0.]\n",
      "1 - [0. 1.]\n",
      "1 - [0. 1.]\n",
      "1 - [0. 1.]\n",
      "1 - [0. 1.]\n",
      "1 - [0. 1.]\n",
      "0 - [1. 0.]\n",
      "1 - [0. 1.]\n",
      "1 - [0. 1.]\n",
      "1 - [0. 1.]\n",
      "1 - [0. 1.]\n",
      "1 - [0. 1.]\n",
      "0 - [1. 0.]\n",
      "1 - [0. 1.]\n",
      "1 - [1. 0.]\n",
      "1 - [0. 1.]\n",
      "1 - [0. 1.]\n",
      "0 - [1. 0.]\n",
      "0 - [1. 0.]\n",
      "0 - [1. 0.]\n",
      "0 - [1. 0.]\n",
      "1 - [0. 1.]\n",
      "0 - [1. 0.]\n",
      "0 - [1. 0.]\n",
      "1 - [0. 1.]\n",
      "1 - [0. 1.]\n",
      "1 - [0. 1.]\n",
      "1 - [0. 1.]\n",
      "0 - [1. 0.]\n",
      "1 - [0. 1.]\n",
      "0 - [1. 0.]\n",
      "1 - [0. 1.]\n",
      "1 - [0. 1.]\n",
      "1 - [0. 1.]\n",
      "0 - [1. 0.]\n",
      "0 - [1. 0.]\n",
      "1 - [1. 0.]\n",
      "0 - [1. 0.]\n",
      "1 - [0. 1.]\n",
      "1 - [0. 1.]\n",
      "1 - [0. 1.]\n",
      "0 - [1. 0.]\n",
      "1 - [0. 1.]\n",
      "1 - [0. 1.]\n",
      "0 - [1. 0.]\n",
      "0 - [1. 0.]\n",
      "1 - [0. 1.]\n",
      "1 - [0. 1.]\n",
      "1 - [0. 1.]\n",
      "1 - [0. 1.]\n",
      "1 - [0. 1.]\n",
      "0 - [1. 0.]\n",
      "1 - [0. 1.]\n",
      "1 - [0. 1.]\n",
      "1 - [0. 1.]\n",
      "1 - [0. 1.]\n",
      "0 - [1. 0.]\n",
      "1 - [0. 1.]\n",
      "1 - [0. 1.]\n",
      "0 - [1. 0.]\n",
      "1 - [0. 1.]\n",
      "0 - [1. 0.]\n",
      "0 - [1. 0.]\n",
      "1 - [0. 1.]\n",
      "1 - [0. 1.]\n",
      "0 - [1. 0.]\n",
      "0 - [1. 0.]\n",
      "1 - [0. 1.]\n",
      "0 - [1. 0.]\n",
      "0 - [1. 0.]\n",
      "0 - [1. 0.]\n",
      "1 - [0. 1.]\n",
      "1 - [0. 1.]\n",
      "0 - [1. 0.]\n",
      "1 - [0. 1.]\n",
      "0 - [1. 0.]\n",
      "1 - [0. 1.]\n",
      "1 - [0. 1.]\n",
      "1 - [0. 1.]\n",
      "0 - [1. 0.]\n",
      "1 - [0. 1.]\n",
      "1 - [0. 1.]\n",
      "1 - [0. 1.]\n",
      "0 - [1. 0.]\n",
      "1 - [0. 1.]\n",
      "1 - [0. 1.]\n",
      "0 - [1. 0.]\n",
      "0 - [1. 0.]\n",
      "0 - [1. 0.]\n",
      "0 - [1. 0.]\n",
      "1 - [0. 1.]\n",
      "1 - [0. 1.]\n",
      "0 - [1. 0.]\n",
      "1 - [0. 1.]\n",
      "1 - [0. 1.]\n",
      "1 - [0. 1.]\n",
      "1 - [0. 1.]\n",
      "1 - [0. 1.]\n",
      "1 - [0. 1.]\n",
      "1 - [0. 1.]\n",
      "0 - [1. 0.]\n",
      "1 - [0. 1.]\n",
      "1 - [0. 1.]\n",
      "1 - [0. 1.]\n",
      "1 - [0. 1.]\n",
      "0 - [1. 0.]\n",
      "0 - [1. 0.]\n",
      "0 - [1. 0.]\n",
      "1 - [0. 1.]\n",
      "0 - [1. 0.]\n",
      "1 - [0. 1.]\n",
      "0 - [1. 0.]\n",
      "0 - [1. 0.]\n",
      "0 - [1. 0.]\n",
      "0 - [1. 0.]\n",
      "1 - [0. 1.]\n",
      "0 - [1. 0.]\n",
      "0 - [1. 0.]\n",
      "0 - [1. 0.]\n",
      "1 - [0. 1.]\n",
      "1 - [0. 1.]\n",
      "1 - [0. 1.]\n",
      "1 - [0. 1.]\n",
      "0 - [1. 0.]\n",
      "1 - [0. 1.]\n",
      "1 - [0. 1.]\n",
      "1 - [0. 1.]\n",
      "1 - [0. 1.]\n",
      "1 - [0. 1.]\n",
      "0 - [1. 0.]\n",
      "1 - [0. 1.]\n",
      "1 - [0. 1.]\n",
      "1 - [0. 1.]\n",
      "0 - [1. 0.]\n",
      "0 - [1. 0.]\n",
      "0 - [1. 0.]\n",
      "0 - [1. 0.]\n",
      "1 - [0. 1.]\n",
      "1 - [0. 1.]\n",
      "1 - [0. 1.]\n",
      "0 - [1. 0.]\n",
      "0 - [1. 0.]\n",
      "0 - [1. 0.]\n",
      "0 - [1. 0.]\n",
      "1 - [0. 1.]\n",
      "1 - [0. 1.]\n",
      "1 - [0. 1.]\n",
      "1 - [0. 1.]\n",
      "0 - [1. 0.]\n",
      "0 - [1. 0.]\n",
      "1 - [0. 1.]\n",
      "1 - [0. 1.]\n",
      "0 - [1. 0.]\n",
      "1 - [0. 1.]\n",
      "1 - [0. 1.]\n",
      "1 - [0. 1.]\n",
      "1 - [0. 1.]\n",
      "0 - [1. 0.]\n",
      "0 - [1. 0.]\n",
      "0 - [1. 0.]\n",
      "0 - [1. 0.]\n",
      "0 - [1. 0.]\n",
      "1 - [0. 1.]\n",
      "1 - [0. 1.]\n",
      "0 - [1. 0.]\n",
      "0 - [1. 0.]\n",
      "0 - [1. 0.]\n",
      "1 - [0. 1.]\n",
      "0 - [1. 0.]\n",
      "0 - [1. 0.]\n",
      "0 - [1. 0.]\n",
      "0 - [1. 0.]\n",
      "0 - [1. 0.]\n",
      "1 - [0. 1.]\n",
      "1 - [0. 1.]\n",
      "1 - [0. 1.]\n",
      "1 - [0. 1.]\n",
      "0 - [1. 0.]\n",
      "1 - [0. 1.]\n",
      "1 - [0. 1.]\n",
      "0 - [1. 0.]\n",
      "1 - [0. 1.]\n",
      "1 - [0. 1.]\n",
      "1 - [0. 1.]\n",
      "1 - [0. 1.]\n",
      "1 - [0. 1.]\n",
      "0 - [1. 0.]\n",
      "0 - [1. 0.]\n",
      "0 - [1. 0.]\n",
      "0 - [1. 0.]\n",
      "1 - [0. 1.]\n",
      "0 - [1. 0.]\n",
      "1 - [0. 1.]\n",
      "0 - [1. 0.]\n",
      "1 - [0. 1.]\n",
      "1 - [0. 1.]\n",
      "0 - [1. 0.]\n",
      "0 - [1. 0.]\n",
      "1 - [0. 1.]\n",
      "1 - [0. 1.]\n",
      "0 - [1. 0.]\n",
      "0 - [1. 0.]\n",
      "1 - [0. 1.]\n",
      "0 - [1. 0.]\n",
      "1 - [0. 1.]\n",
      "{'classification_report': {'calibration_curve': {'brier_loss': {0: 0.018518518518518517,\n",
      "                                                                1: 0.018518518518518517},\n",
      "                                                 'calibration_curve': {0: {'bin_total': array([34,  0,  0,  0,  0,  0,  0,  0,  0, 20,  0]),\n",
      "                                                                           'bin_true': array([ 0.,  0.,  0.,  0.,  0.,  0.,  0.,  0.,  0., 19.,  0.]),\n",
      "                                                                           'bins': array([0.        , 0.1       , 0.2       , 0.3       , 0.4       ,\n",
      "       0.5       , 0.60000001, 0.70000001, 0.80000001, 0.90000001,\n",
      "       1.00000001]),\n",
      "                                                                           'fraction_of_positives': array([0.  , 0.95]),\n",
      "                                                                           'mean_predicted_value': array([0., 1.]),\n",
      "                                                                           'nonzero': array([ True, False, False, False, False, False, False, False, False,\n",
      "        True, False])},\n",
      "                                                                       1: {'bin_total': array([20,  0,  0,  0,  0,  0,  0,  0,  0, 34,  0]),\n",
      "                                                                           'bin_true': array([ 1.,  0.,  0.,  0.,  0.,  0.,  0.,  0.,  0., 34.,  0.]),\n",
      "                                                                           'bins': array([0.        , 0.1       , 0.2       , 0.3       , 0.4       ,\n",
      "       0.5       , 0.60000001, 0.70000001, 0.80000001, 0.90000001,\n",
      "       1.00000001]),\n",
      "                                                                           'fraction_of_positives': array([0.05, 1.  ]),\n",
      "                                                                           'mean_predicted_value': array([0., 1.]),\n",
      "                                                                           'nonzero': array([ True, False, False, False, False, False, False, False, False,\n",
      "        True, False])}},\n",
      "                                                 'labels': [0, 1]},\n",
      "                           'calibration_curve_quantile': {'brier_loss': {0: 0.018518518518518517,\n",
      "                                                                         1: 0.018518518518518517},\n",
      "                                                          'calibration_curve': {0: {'bin_total': array([ 0,  0,  0,  0,  0,  0, 34,  0,  0, 20,  0]),\n",
      "                                                                                    'bin_true': array([ 0.,  0.,  0.,  0.,  0.,  0.,  0.,  0.,  0., 19.,  0.]),\n",
      "                                                                                    'bins': array([0.        , 0.        , 0.        , 0.        , 0.        ,\n",
      "       0.        , 0.        , 1.        , 1.        , 1.        ,\n",
      "       1.00000001]),\n",
      "                                                                                    'fraction_of_positives': array([0.  , 0.95]),\n",
      "                                                                                    'mean_predicted_value': array([0., 1.]),\n",
      "                                                                                    'nonzero': array([False, False, False, False, False, False,  True, False, False,\n",
      "        True, False])},\n",
      "                                                                                1: {'bin_total': array([ 0,  0,  0, 20,  0,  0,  0,  0,  0, 34,  0]),\n",
      "                                                                                    'bin_true': array([ 0.,  0.,  0.,  1.,  0.,  0.,  0.,  0.,  0., 34.,  0.]),\n",
      "                                                                                    'bins': array([0.        , 0.        , 0.        , 0.        , 1.        ,\n",
      "       1.        , 1.        , 1.        , 1.        , 1.        ,\n",
      "       1.00000001]),\n",
      "                                                                                    'fraction_of_positives': array([0.05, 1.  ]),\n",
      "                                                                                    'mean_predicted_value': array([0., 1.]),\n",
      "                                                                                    'nonzero': array([False, False, False,  True, False, False, False, False, False,\n",
      "        True, False])}},\n",
      "                                                          'labels': [0, 1]},\n",
      "                           'labels': [0, 1],\n",
      "                           'precision_recall_curve': {'average_precision': {0: 0.95,\n",
      "                                                                            1: 0.9899470899470899},\n",
      "                                                      'labels': [0, 1],\n",
      "                                                      'recall_precision_curve': {0: {'precision': array([0.95, 1.  ]),\n",
      "                                                                                     'recall': array([1., 0.]),\n",
      "                                                                                     'thresholds': array([1.])},\n",
      "                                                                                 1: {'precision': array([0.64814815, 1.        , 1.        ]),\n",
      "                                                                                     'recall': array([1.        , 0.97142857, 0.        ]),\n",
      "                                                                                     'thresholds': array([0., 1.])}}},\n",
      "                           'roc_curve': {'auc': {0: 0.9857142857142857, 1: 0.9857142857142858},\n",
      "                                         'labels': [0, 1],\n",
      "                                         'roc_curve': {0: {'fpr': array([0.        , 0.02857143, 1.        ]),\n",
      "                                                           'thresholds': array([2., 1., 0.]),\n",
      "                                                           'tpr': array([0., 1., 1.])},\n",
      "                                                       1: {'fpr': array([0., 0., 1.]),\n",
      "                                                           'thresholds': array([2., 1., 0.]),\n",
      "                                                           'tpr': array([0.        , 0.97142857, 1.        ])}}},\n",
      "                           'sklearn_performance_summary': {0: {'f1-score': 0.9743589743589743,\n",
      "                                                               'precision': 0.95,\n",
      "                                                               'recall': 1.0,\n",
      "                                                               'support': 19},\n",
      "                                                           1: {'f1-score': 0.9855072463768115,\n",
      "                                                               'precision': 1.0,\n",
      "                                                               'recall': 0.9714285714285714,\n",
      "                                                               'support': 35},\n",
      "                                                           'accuracy': 0.9814814814814815,\n",
      "                                                           'macro avg': {'f1-score': 0.979933110367893,\n",
      "                                                                         'precision': 0.975,\n",
      "                                                                         'recall': 0.9857142857142858,\n",
      "                                                                         'support': 54},\n",
      "                                                           'weighted avg': {'f1-score': 0.9815847062223874,\n",
      "                                                                            'precision': 0.9824074074074074,\n",
      "                                                                            'recall': 0.9814814814814815,\n",
      "                                                                            'support': 54}}},\n",
      " 'confusion_matrix': {'confusion_matrix': array([[19,  0],\n",
      "       [ 1, 34]]),\n",
      "                      'labels': [0, 1],\n",
      "                      'normalized_confusion_matrix': [[1.0, 0.0], [0.029, 0.971]]},\n",
      " 'metric_scores': {'auc': {'ci_high': 1.0,\n",
      "                           'ci_low': 0.9846041055718475,\n",
      "                           'ci_ratio': 2.0,\n",
      "                           'value': 0.9857142857142858},\n",
      "                   'recall': {'ci_high': 1.0,\n",
      "                              'ci_low': 0.9846041055718475,\n",
      "                              'ci_ratio': 2.0,\n",
      "                              'value': 0.9857142857142858}},\n"
     ]
    },
    {
     "name": "stdout",
     "output_type": "stream",
     "text": [
      " 'scatter': None,\n",
      " 'target_metric': 'recall'}\n"
     ]
    }
   ],
   "source": [
    "scoring_report = pytrust.scoring_report\n",
    "pprint(scoring_report.to_dict(), width=100)"
   ]
  },
  {
   "cell_type": "code",
   "execution_count": 20,
   "metadata": {},
   "outputs": [],
   "source": [
    "# TODO: copy the class files from sklearn   ***************\n",
    "# requires newer version of sklearn that spports PrecisionRecallDisplay\n",
    "# scoring_report.plot()"
   ]
  },
  {
   "cell_type": "markdown",
   "metadata": {},
   "source": [
    "#### Iris"
   ]
  },
  {
   "cell_type": "code",
   "execution_count": 21,
   "metadata": {},
   "outputs": [],
   "source": [
    "data = sklearn.datasets.load_iris(return_X_y=False)\n",
    "data['target'] = np.asarray([int(int(x)>0) for x in data['target']])\n",
    "data['target_names'] = data['target_names'][:2]\n",
    "\n",
    "\n",
    "x = data['data']\n",
    "y = data['target']\n",
    "feature_names = data['feature_names']\n",
    "labels = data['target_names']\n",
    "\n",
    "train_inds, test_inds = sklearn.model_selection.train_test_split(\n",
    "    np.arange(len(data['data'])), test_size=0.3)\n",
    "\n",
    "xtrain, ytrain = x[train_inds], y[train_inds]\n",
    "xtest, ytest = x[test_inds], y[test_inds]"
   ]
  },
  {
   "cell_type": "code",
   "execution_count": 22,
   "metadata": {},
   "outputs": [
    {
     "data": {
      "text/plain": [
       "DecisionTreeClassifier(class_weight=None, criterion='gini', max_depth=None,\n",
       "                       max_features=None, max_leaf_nodes=None,\n",
       "                       min_impurity_decrease=0.0, min_impurity_split=None,\n",
       "                       min_samples_leaf=1, min_samples_split=2,\n",
       "                       min_weight_fraction_leaf=0.0, presort=False,\n",
       "                       random_state=None, splitter='best')"
      ]
     },
     "execution_count": 22,
     "metadata": {},
     "output_type": "execute_result"
    }
   ],
   "source": [
    "# Train estimator\n",
    "classifier = DecisionTreeClassifier()\n",
    "classifier.fit(xtrain, ytrain)"
   ]
  },
  {
   "cell_type": "code",
   "execution_count": 23,
   "metadata": {},
   "outputs": [],
   "source": [
    "# Initiating PyTrust\n",
    "target_labels_dict={0:1, 1:0}\n",
    "pytrust = PyTrust(\n",
    "    model=classifier,\n",
    "    xtrain=xtrain, ytrain=ytrain,\n",
    "    xtest=xtest, ytest=ytest,\n",
    "    target_labels=target_labels_dict,\n",
    "    metric='recall')"
   ]
  },
  {
   "cell_type": "code",
   "execution_count": 24,
   "metadata": {},
   "outputs": [
    {
     "name": "stdout",
     "output_type": "stream",
     "text": [
      "[0 0 1 0 1 1 0 1 1 0 1 1 1 1 0 1 0 1 1 0 1 1 1 1 0 1 1 1 1 1 1 1 1 1 0 1 1\n",
      " 0 1 1 1 1 1 1 1] 45 34 11\n"
     ]
    }
   ],
   "source": [
    "print(ytest, len(ytest), sum(ytest), len(ytest) - sum(ytest))"
   ]
  },
  {
   "cell_type": "code",
   "execution_count": 25,
   "metadata": {},
   "outputs": [
    {
     "name": "stdout",
     "output_type": "stream",
     "text": [
      "[0 0 1 0 1 1 0 1 1 0 1 1 1 1 0 1 0 1 1 0 1 1 1 1 0 1 1 1 1 1 1 1 1 1 0 1 1\n",
      " 0 1 1 1 1 1 1 1] 45 34 11\n"
     ]
    }
   ],
   "source": [
    "ypred = classifier.predict(xtest)\n",
    "print(ypred, len(ypred), sum(ypred), len(ypred) - sum(ypred))"
   ]
  },
  {
   "cell_type": "code",
   "execution_count": 26,
   "metadata": {},
   "outputs": [
    {
     "data": {
      "text/plain": [
       "array([[1., 0.],\n",
       "       [1., 0.],\n",
       "       [0., 1.],\n",
       "       [1., 0.],\n",
       "       [0., 1.],\n",
       "       [0., 1.],\n",
       "       [1., 0.],\n",
       "       [0., 1.],\n",
       "       [0., 1.],\n",
       "       [1., 0.],\n",
       "       [0., 1.],\n",
       "       [0., 1.],\n",
       "       [0., 1.],\n",
       "       [0., 1.],\n",
       "       [1., 0.],\n",
       "       [0., 1.],\n",
       "       [1., 0.],\n",
       "       [0., 1.],\n",
       "       [0., 1.],\n",
       "       [1., 0.],\n",
       "       [0., 1.],\n",
       "       [0., 1.],\n",
       "       [0., 1.],\n",
       "       [0., 1.],\n",
       "       [1., 0.],\n",
       "       [0., 1.],\n",
       "       [0., 1.],\n",
       "       [0., 1.],\n",
       "       [0., 1.],\n",
       "       [0., 1.],\n",
       "       [0., 1.],\n",
       "       [0., 1.],\n",
       "       [0., 1.],\n",
       "       [0., 1.],\n",
       "       [1., 0.],\n",
       "       [0., 1.],\n",
       "       [0., 1.],\n",
       "       [1., 0.],\n",
       "       [0., 1.],\n",
       "       [0., 1.],\n",
       "       [0., 1.],\n",
       "       [0., 1.],\n",
       "       [0., 1.],\n",
       "       [0., 1.],\n",
       "       [0., 1.]])"
      ]
     },
     "execution_count": 26,
     "metadata": {},
     "output_type": "execute_result"
    }
   ],
   "source": [
    "yproba = classifier.predict_proba(xtest)\n",
    "yproba"
   ]
  },
  {
   "cell_type": "code",
   "execution_count": 27,
   "metadata": {},
   "outputs": [
    {
     "data": {
      "text/plain": [
       "(array([0, 1]), numpy.ndarray)"
      ]
     },
     "execution_count": 27,
     "metadata": {},
     "output_type": "execute_result"
    }
   ],
   "source": [
    "classifier.classes_, type(classifier.classes_)"
   ]
  },
  {
   "cell_type": "code",
   "execution_count": 28,
   "metadata": {},
   "outputs": [],
   "source": [
    "classifier.classes_ = np.asarray([1, 0])\n",
    "    "
   ]
  },
  {
   "cell_type": "code",
   "execution_count": 29,
   "metadata": {},
   "outputs": [
    {
     "name": "stdout",
     "output_type": "stream",
     "text": [
      "0 - 1\n",
      "0 - 1\n",
      "1 - 0\n",
      "0 - 1\n",
      "1 - 0\n",
      "1 - 0\n",
      "0 - 1\n",
      "1 - 0\n",
      "1 - 0\n",
      "0 - 1\n",
      "1 - 0\n",
      "1 - 0\n",
      "0 - [0. 1.]\n",
      "0 - [0. 1.]\n",
      "1 - [1. 0.]\n",
      "0 - [0. 1.]\n",
      "1 - [1. 0.]\n",
      "1 - [1. 0.]\n",
      "0 - [0. 1.]\n",
      "1 - [1. 0.]\n",
      "1 - [1. 0.]\n",
      "0 - [0. 1.]\n",
      "1 - [1. 0.]\n",
      "1 - [1. 0.]\n",
      "1 - [1. 0.]\n",
      "0 - [0. 1.]\n",
      "0 - [0. 1.]\n",
      "0 - [0. 1.]\n",
      "1 - [1. 0.]\n",
      "0 - [0. 1.]\n",
      "0 - [0. 1.]\n",
      "1 - [1. 0.]\n",
      "1 - [1. 0.]\n",
      "1 - [1. 0.]\n",
      "0 - [0. 1.]\n",
      "0 - [0. 1.]\n",
      "1 - [1. 0.]\n",
      "1 - [1. 0.]\n",
      "1 - [1. 0.]\n",
      "0 - [0. 1.]\n",
      "0 - [0. 1.]\n",
      "0 - [0. 1.]\n",
      "1 - [1. 0.]\n",
      "1 - [1. 0.]\n",
      "1 - [1. 0.]\n",
      "1 - [1. 0.]\n",
      "1 - [1. 0.]\n",
      "1 - [1. 0.]\n",
      "1 - [1. 0.]\n",
      "1 - [1. 0.]\n",
      "1 - [1. 0.]\n",
      "1 - [1. 0.]\n",
      "1 - [1. 0.]\n",
      "0 - [0. 1.]\n",
      "1 - [1. 0.]\n",
      "1 - [1. 0.]\n",
      "1 - [1. 0.]\n",
      "0 - [0. 1.]\n",
      "1 - [1. 0.]\n",
      "0 - [0. 1.]\n",
      "1 - [1. 0.]\n",
      "0 - [0. 1.]\n",
      "1 - [1. 0.]\n",
      "0 - [0. 1.]\n",
      "1 - [1. 0.]\n",
      "1 - [1. 0.]\n",
      "1 - [1. 0.]\n",
      "1 - [1. 0.]\n",
      "0 - [0. 1.]\n",
      "1 - [1. 0.]\n",
      "0 - [0. 1.]\n",
      "1 - [1. 0.]\n",
      "1 - [1. 0.]\n",
      "1 - [1. 0.]\n",
      "1 - [1. 0.]\n",
      "0 - [0. 1.]\n",
      "1 - [1. 0.]\n",
      "1 - [1. 0.]\n",
      "1 - [1. 0.]\n",
      "1 - [1. 0.]\n",
      "1 - [1. 0.]\n",
      "1 - [1. 0.]\n",
      "1 - [1. 0.]\n",
      "1 - [1. 0.]\n",
      "1 - [1. 0.]\n",
      "1 - [1. 0.]\n",
      "0 - [0. 1.]\n",
      "0 - [0. 1.]\n",
      "1 - [1. 0.]\n",
      "1 - [1. 0.]\n",
      "0 - [0. 1.]\n",
      "1 - [1. 0.]\n",
      "1 - [1. 0.]\n",
      "0 - [0. 1.]\n",
      "1 - [1. 0.]\n",
      "0 - [0. 1.]\n",
      "1 - [1. 0.]\n",
      "1 - [1. 0.]\n",
      "1 - [1. 0.]\n",
      "1 - [1. 0.]\n",
      "1 - [1. 0.]\n",
      "1 - [1. 0.]\n",
      "0 - [0. 1.]\n",
      "1 - [1. 0.]\n",
      "1 - [1. 0.]\n",
      "1 - [1. 0.]\n",
      "1 - [1. 0.]\n",
      "1 - [1. 0.]\n",
      "1 - [1. 0.]\n",
      "1 - [1. 0.]\n",
      "1 - [1. 0.]\n",
      "1 - [1. 0.]\n",
      "0 - [0. 1.]\n",
      "1 - [1. 0.]\n",
      "1 - [1. 0.]\n",
      "1 - [1. 0.]\n",
      "1 - [1. 0.]\n",
      "1 - [1. 0.]\n",
      "0 - [0. 1.]\n",
      "1 - [1. 0.]\n",
      "1 - [1. 0.]\n",
      "1 - [1. 0.]\n",
      "1 - [1. 0.]\n",
      "1 - [1. 0.]\n",
      "0 - [0. 1.]\n",
      "0 - [0. 1.]\n",
      "1 - [1. 0.]\n",
      "1 - [1. 0.]\n",
      "0 - [0. 1.]\n",
      "1 - [1. 0.]\n",
      "1 - [1. 0.]\n",
      "1 - [1. 0.]\n",
      "1 - [1. 0.]\n",
      "1 - [1. 0.]\n",
      "1 - [1. 0.]\n",
      "1 - [1. 0.]\n",
      "1 - [1. 0.]\n",
      "1 - [1. 0.]\n",
      "1 - [1. 0.]\n",
      "0 - [0. 1.]\n",
      "0 - [0. 1.]\n",
      "0 - [0. 1.]\n",
      "1 - [1. 0.]\n",
      "1 - [1. 0.]\n",
      "1 - [1. 0.]\n",
      "1 - [1. 0.]\n",
      "1 - [1. 0.]\n",
      "0 - [0. 1.]\n",
      "0 - [0. 1.]\n",
      "0 - [0. 1.]\n",
      "1 - [1. 0.]\n",
      "1 - [1. 0.]\n",
      "1 - [1. 0.]\n",
      "1 - [1. 0.]\n",
      "1 - [1. 0.]\n",
      "1 - [1. 0.]\n",
      "1 - [1. 0.]\n",
      "1 - [1. 0.]\n",
      "1 - [1. 0.]\n",
      "0 - [0. 1.]\n",
      "1 - [1. 0.]\n",
      "1 - [1. 0.]\n",
      "0 - [0. 1.]\n",
      "1 - [1. 0.]\n",
      "0 - [0. 1.]\n",
      "1 - [1. 0.]\n",
      "0 - [0. 1.]\n",
      "1 - [1. 0.]\n",
      "1 - [1. 0.]\n",
      "1 - [1. 0.]\n",
      "0 - [0. 1.]\n",
      "1 - [1. 0.]\n",
      "1 - [1. 0.]\n",
      "1 - [1. 0.]\n",
      "1 - [1. 0.]\n",
      "1 - [1. 0.]\n",
      "1 - [1. 0.]\n",
      "1 - [1. 0.]\n",
      "1 - [1. 0.]\n",
      "0 - [0. 1.]\n",
      "0 - [0. 1.]\n",
      "1 - [1. 0.]\n",
      "0 - [0. 1.]\n",
      "1 - [1. 0.]\n",
      "1 - [1. 0.]\n",
      "1 - [1. 0.]\n",
      "1 - [1. 0.]\n",
      "0 - [0. 1.]\n",
      "1 - [1. 0.]\n",
      "0 - [0. 1.]\n",
      "1 - [1. 0.]\n",
      "1 - [1. 0.]\n",
      "1 - [1. 0.]\n",
      "1 - [1. 0.]\n",
      "0 - [0. 1.]\n",
      "0 - [0. 1.]\n",
      "1 - [1. 0.]\n",
      "1 - [1. 0.]\n",
      "1 - [1. 0.]\n",
      "0 - [0. 1.]\n",
      "1 - [1. 0.]\n",
      "1 - [1. 0.]\n",
      "1 - [1. 0.]\n",
      "0 - [0. 1.]\n",
      "1 - [1. 0.]\n",
      "1 - [1. 0.]\n",
      "1 - [1. 0.]\n",
      "1 - [1. 0.]\n",
      "1 - [1. 0.]\n",
      "0 - [0. 1.]\n",
      "1 - [1. 0.]\n",
      "1 - [1. 0.]\n",
      "1 - [1. 0.]\n",
      "1 - [1. 0.]\n",
      "1 - [1. 0.]\n",
      "1 - [1. 0.]\n",
      "0 - [0. 1.]\n",
      "1 - [1. 0.]\n",
      "1 - [1. 0.]\n",
      "0 - [0. 1.]\n",
      "0 - [0. 1.]\n",
      "0 - [0. 1.]\n",
      "1 - [1. 0.]\n",
      "1 - [1. 0.]\n",
      "1 - [1. 0.]\n",
      "0 - [0. 1.]\n",
      "1 - [1. 0.]\n",
      "1 - [1. 0.]\n",
      "1 - [1. 0.]\n",
      "1 - [1. 0.]\n",
      "1 - [1. 0.]\n",
      "1 - [1. 0.]\n",
      "1 - [1. 0.]\n",
      "0 - [0. 1.]\n",
      "1 - [1. 0.]\n",
      "1 - [1. 0.]\n",
      "1 - [1. 0.]\n",
      "1 - [1. 0.]\n",
      "1 - [1. 0.]\n",
      "1 - [1. 0.]\n",
      "0 - [0. 1.]\n",
      "0 - [0. 1.]\n",
      "0 - [0. 1.]\n",
      "0 - [0. 1.]\n",
      "1 - [1. 0.]\n",
      "0 - [0. 1.]\n",
      "1 - [1. 0.]\n",
      "0 - [0. 1.]\n",
      "1 - [1. 0.]\n",
      "1 - [1. 0.]\n",
      "1 - [1. 0.]\n",
      "0 - [0. 1.]\n",
      "1 - [1. 0.]\n",
      "0 - [0. 1.]\n",
      "1 - [1. 0.]\n",
      "1 - [1. 0.]\n",
      "0 - [0. 1.]\n",
      "1 - [1. 0.]\n",
      "1 - [1. 0.]\n",
      "1 - [1. 0.]\n",
      "1 - [1. 0.]\n",
      "0 - [0. 1.]\n",
      "1 - [1. 0.]\n",
      "1 - [1. 0.]\n",
      "{'classification_report': {'calibration_curve': {'brier_loss': {0: 1.0, 1: 1.0},\n",
      "                                                 'calibration_curve': {0: {'bin_total': array([34,  0,  0,  0,  0,  0,  0,  0,  0, 11,  0]),\n",
      "                                                                           'bin_true': array([34.,  0.,  0.,  0.,  0.,  0.,  0.,  0.,  0.,  0.,  0.]),\n",
      "                                                                           'bins': array([0.        , 0.1       , 0.2       , 0.3       , 0.4       ,\n",
      "       0.5       , 0.60000001, 0.70000001, 0.80000001, 0.90000001,\n",
      "       1.00000001]),\n",
      "                                                                           'fraction_of_positives': array([1., 0.]),\n",
      "                                                                           'mean_predicted_value': array([0., 1.]),\n",
      "                                                                           'nonzero': array([ True, False, False, False, False, False, False, False, False,\n",
      "        True, False])},\n",
      "                                                                       1: {'bin_total': array([11,  0,  0,  0,  0,  0,  0,  0,  0, 34,  0]),\n",
      "                                                                           'bin_true': array([11.,  0.,  0.,  0.,  0.,  0.,  0.,  0.,  0.,  0.,  0.]),\n",
      "                                                                           'bins': array([0.        , 0.1       , 0.2       , 0.3       , 0.4       ,\n",
      "       0.5       , 0.60000001, 0.70000001, 0.80000001, 0.90000001,\n",
      "       1.00000001]),\n",
      "                                                                           'fraction_of_positives': array([1., 0.]),\n",
      "                                                                           'mean_predicted_value': array([0., 1.]),\n",
      "                                                                           'nonzero': array([ True, False, False, False, False, False, False, False, False,\n",
      "        True, False])}},\n",
      "                                                 'labels': [1, 0]},\n",
      "                           'calibration_curve_quantile': {'brier_loss': {0: 1.0, 1: 1.0},\n",
      "                                                          'calibration_curve': {0: {'bin_total': array([ 0,  0,  0,  0,  0,  0,  0, 34,  0, 11,  0]),\n",
      "                                                                                    'bin_true': array([ 0.,  0.,  0.,  0.,  0.,  0.,  0., 34.,  0.,  0.,  0.]),\n",
      "                                                                                    'bins': array([0.        , 0.        , 0.        , 0.        , 0.        ,\n",
      "       0.        , 0.        , 0.        , 1.        , 1.        ,\n",
      "       1.00000001]),\n",
      "                                                                                    'fraction_of_positives': array([1., 0.]),\n",
      "                                                                                    'mean_predicted_value': array([0., 1.]),\n",
      "                                                                                    'nonzero': array([False, False, False, False, False, False, False,  True, False,\n",
      "        True, False])},\n",
      "                                                                                1: {'bin_total': array([ 0,  0, 11,  0,  0,  0,  0,  0,  0, 34,  0]),\n",
      "                                                                                    'bin_true': array([ 0.,  0., 11.,  0.,  0.,  0.,  0.,  0.,  0.,  0.,  0.]),\n",
      "                                                                                    'bins': array([0.        , 0.        , 0.        , 1.        , 1.        ,\n",
      "       1.        , 1.        , 1.        , 1.        , 1.        ,\n",
      "       1.00000001]),\n",
      "                                                                                    'fraction_of_positives': array([1., 0.]),\n",
      "                                                                                    'mean_predicted_value': array([0., 1.]),\n",
      "                                                                                    'nonzero': array([False, False,  True, False, False, False, False, False, False,\n",
      "        True, False])}},\n",
      "                                                          'labels': [1, 0]},\n",
      "                           'labels': [1, 0],\n",
      "                           'precision_recall_curve': {'average_precision': {0: 1.0, 1: 1.0},\n",
      "                                                      'labels': [1, 0],\n",
      "                                                      'recall_precision_curve': {0: {'precision': array([1., 1.]),\n",
      "                                                                                     'recall': array([1., 0.]),\n",
      "                                                                                     'thresholds': array([1.])},\n",
      "                                                                                 1: {'precision': array([1., 1.]),\n",
      "                                                                                     'recall': array([1., 0.]),\n",
      "                                                                                     'thresholds': array([1.])}}},\n",
      "                           'roc_curve': {'auc': {0: 1.0, 1: 1.0},\n",
      "                                         'labels': [1, 0],\n",
      "                                         'roc_curve': {0: {'fpr': array([0., 0., 1.]),\n",
      "                                                           'thresholds': array([2., 1., 0.]),\n",
      "                                                           'tpr': array([0., 1., 1.])},\n",
      "                                                       1: {'fpr': array([0., 0., 1.]),\n",
      "                                                           'thresholds': array([2., 1., 0.]),\n",
      "                                                           'tpr': array([0., 1., 1.])}}},\n",
      "                           'sklearn_performance_summary': {0: {'f1-score': 0.0,\n",
      "                                                               'precision': 0.0,\n",
      "                                                               'recall': 0.0,\n",
      "                                                               'support': 34.0},\n",
      "                                                           1: {'f1-score': 0.0,\n",
      "                                                               'precision': 0.0,\n",
      "                                                               'recall': 0.0,\n",
      "                                                               'support': 11.0},\n",
      "                                                           'accuracy': 0.0,\n",
      "                                                           'macro avg': {'f1-score': 0.0,\n",
      "                                                                         'precision': 0.0,\n",
      "                                                                         'recall': 0.0,\n",
      "                                                                         'support': 45.0},\n",
      "                                                           'weighted avg': {'f1-score': 0.0,\n",
      "                                                                            'precision': 0.0,\n",
      "                                                                            'recall': 0.0,\n",
      "                                                                            'support': 45.0}}},\n",
      " 'confusion_matrix': {'confusion_matrix': array([[ 0, 34],\n",
      "       [11,  0]]),\n",
      "                      'labels': [1, 0],\n",
      "                      'normalized_confusion_matrix': [[0.0, 1.0], [1.0, 0.0]]},\n",
      " 'metric_scores': {'auc': {'ci_high': 0.0, 'ci_low': 0.0, 'ci_ratio': 0, 'value': 0.0},\n",
      "                   'recall': {'ci_high': 0.0, 'ci_low': 0.0, 'ci_ratio': 0, 'value': 0.0}},\n",
      " 'scatter': None,\n",
      " 'target_metric': 'recall'}\n"
     ]
    }
   ],
   "source": [
    "scoring_report = pytrust.scoring_report\n",
    "pprint(scoring_report.to_dict(), width=100)\n"
   ]
  },
  {
   "cell_type": "code",
   "execution_count": 30,
   "metadata": {},
   "outputs": [
    {
     "name": "stdout",
     "output_type": "stream",
     "text": [
      "reversing axes due to class order [1, 0]\n",
      "reversing axes due to class order [1, 0]\n"
     ]
    },
    {
     "ename": "NameError",
     "evalue": "name 'PrecisionRecallDisplay' is not defined",
     "output_type": "error",
     "traceback": [
      "\u001b[0;31m---------------------------------------------------------------------------\u001b[0m",
      "\u001b[0;31mNameError\u001b[0m                                 Traceback (most recent call last)",
      "\u001b[0;32m/var/folders/c9/7vt3f_cs583_br1fj6qfrns80000gn/T/ipykernel_59727/2999897882.py\u001b[0m in \u001b[0;36m<module>\u001b[0;34m\u001b[0m\n\u001b[1;32m      2\u001b[0m \u001b[0;31m# ~/opt/anaconda3/envs/courses/lib/python3.9/site-packages/sklearn/metrics/_plot/precision_recall_curve.py\u001b[0m\u001b[0;34m\u001b[0m\u001b[0;34m\u001b[0m\u001b[0;34m\u001b[0m\u001b[0m\n\u001b[1;32m      3\u001b[0m \u001b[0;31m# requires newer version of sklearn that spports PrecisionRecallDisplay\u001b[0m\u001b[0;34m\u001b[0m\u001b[0;34m\u001b[0m\u001b[0;34m\u001b[0m\u001b[0m\n\u001b[0;32m----> 4\u001b[0;31m \u001b[0mscoring_report\u001b[0m\u001b[0;34m.\u001b[0m\u001b[0mplot\u001b[0m\u001b[0;34m(\u001b[0m\u001b[0;34m)\u001b[0m\u001b[0;34m\u001b[0m\u001b[0;34m\u001b[0m\u001b[0m\n\u001b[0m",
      "\u001b[0;32m~/dev/metrics/Pytolemaic/pytolemaic/analysis_logic/model_analysis/scoring/scoring_report.py\u001b[0m in \u001b[0;36mplot\u001b[0;34m(self, figsize)\u001b[0m\n\u001b[1;32m    832\u001b[0m             \u001b[0mself\u001b[0m\u001b[0;34m.\u001b[0m\u001b[0mscatter\u001b[0m\u001b[0;34m.\u001b[0m\u001b[0mplot\u001b[0m\u001b[0;34m(\u001b[0m\u001b[0mfigsize\u001b[0m\u001b[0;34m=\u001b[0m\u001b[0mfigsize\u001b[0m\u001b[0;34m)\u001b[0m\u001b[0;34m\u001b[0m\u001b[0;34m\u001b[0m\u001b[0m\n\u001b[1;32m    833\u001b[0m         \u001b[0;32mif\u001b[0m \u001b[0mself\u001b[0m\u001b[0;34m.\u001b[0m\u001b[0mclassification_report\u001b[0m \u001b[0;32mis\u001b[0m \u001b[0;32mnot\u001b[0m \u001b[0;32mNone\u001b[0m\u001b[0;34m:\u001b[0m\u001b[0;34m\u001b[0m\u001b[0;34m\u001b[0m\u001b[0m\n\u001b[0;32m--> 834\u001b[0;31m             \u001b[0mself\u001b[0m\u001b[0;34m.\u001b[0m\u001b[0mclassification_report\u001b[0m\u001b[0;34m.\u001b[0m\u001b[0mplot\u001b[0m\u001b[0;34m(\u001b[0m\u001b[0mfigsize\u001b[0m\u001b[0;34m=\u001b[0m\u001b[0mfigsize\u001b[0m\u001b[0;34m)\u001b[0m\u001b[0;34m\u001b[0m\u001b[0;34m\u001b[0m\u001b[0m\n\u001b[0m\u001b[1;32m    835\u001b[0m \u001b[0;34m\u001b[0m\u001b[0m\n\u001b[1;32m    836\u001b[0m         \u001b[0mn\u001b[0m \u001b[0;34m=\u001b[0m \u001b[0mlen\u001b[0m\u001b[0;34m(\u001b[0m\u001b[0mself\u001b[0m\u001b[0;34m.\u001b[0m\u001b[0mmetric_scores\u001b[0m\u001b[0;34m)\u001b[0m\u001b[0;34m\u001b[0m\u001b[0;34m\u001b[0m\u001b[0m\n",
      "\u001b[0;32m~/dev/metrics/Pytolemaic/pytolemaic/analysis_logic/model_analysis/scoring/scoring_report.py\u001b[0m in \u001b[0;36mplot\u001b[0;34m(self, figsize)\u001b[0m\n\u001b[1;32m    435\u001b[0m         \u001b[0mfig\u001b[0m\u001b[0;34m,\u001b[0m \u001b[0;34m(\u001b[0m\u001b[0max1\u001b[0m\u001b[0;34m,\u001b[0m \u001b[0max2\u001b[0m\u001b[0;34m)\u001b[0m \u001b[0;34m=\u001b[0m \u001b[0mplt\u001b[0m\u001b[0;34m.\u001b[0m\u001b[0msubplots\u001b[0m\u001b[0;34m(\u001b[0m\u001b[0;36m1\u001b[0m\u001b[0;34m,\u001b[0m \u001b[0;36m2\u001b[0m\u001b[0;34m,\u001b[0m \u001b[0mfigsize\u001b[0m\u001b[0;34m=\u001b[0m\u001b[0mfigsize\u001b[0m\u001b[0;34m)\u001b[0m\u001b[0;34m\u001b[0m\u001b[0;34m\u001b[0m\u001b[0m\n\u001b[1;32m    436\u001b[0m \u001b[0;34m\u001b[0m\u001b[0m\n\u001b[0;32m--> 437\u001b[0;31m         \u001b[0mself\u001b[0m\u001b[0;34m.\u001b[0m\u001b[0mprecision_recall_curve\u001b[0m\u001b[0;34m.\u001b[0m\u001b[0mplot\u001b[0m\u001b[0;34m(\u001b[0m\u001b[0max1\u001b[0m\u001b[0;34m)\u001b[0m\u001b[0;34m\u001b[0m\u001b[0;34m\u001b[0m\u001b[0m\n\u001b[0m\u001b[1;32m    438\u001b[0m         \u001b[0mself\u001b[0m\u001b[0;34m.\u001b[0m\u001b[0mroc_curve\u001b[0m\u001b[0;34m.\u001b[0m\u001b[0mplot\u001b[0m\u001b[0;34m(\u001b[0m\u001b[0max2\u001b[0m\u001b[0;34m)\u001b[0m\u001b[0;34m\u001b[0m\u001b[0;34m\u001b[0m\u001b[0m\n\u001b[1;32m    439\u001b[0m         \u001b[0mplt\u001b[0m\u001b[0;34m.\u001b[0m\u001b[0mtight_layout\u001b[0m\u001b[0;34m(\u001b[0m\u001b[0;34m)\u001b[0m\u001b[0;34m\u001b[0m\u001b[0;34m\u001b[0m\u001b[0m\n",
      "\u001b[0;32m~/dev/metrics/Pytolemaic/pytolemaic/analysis_logic/model_analysis/scoring/scoring_report.py\u001b[0m in \u001b[0;36mplot\u001b[0;34m(self, ax, figsize)\u001b[0m\n\u001b[1;32m    140\u001b[0m             \u001b[0maverage_precision\u001b[0m \u001b[0;34m=\u001b[0m \u001b[0mself\u001b[0m\u001b[0;34m.\u001b[0m\u001b[0m_average_precision\u001b[0m\u001b[0;34m[\u001b[0m\u001b[0mlabel\u001b[0m\u001b[0;34m]\u001b[0m\u001b[0;34m\u001b[0m\u001b[0;34m\u001b[0m\u001b[0m\n\u001b[1;32m    141\u001b[0m \u001b[0;34m\u001b[0m\u001b[0m\n\u001b[0;32m--> 142\u001b[0;31m             viz = PrecisionRecallDisplay(precision=precision, recall=recall, average_precision=average_precision,\n\u001b[0m\u001b[1;32m    143\u001b[0m                                          estimator_name='Classifier')\n\u001b[1;32m    144\u001b[0m \u001b[0;34m\u001b[0m\u001b[0m\n",
      "\u001b[0;31mNameError\u001b[0m: name 'PrecisionRecallDisplay' is not defined"
     ]
    },
    {
     "data": {
      "image/png": "[encoded data removed]",
      "text/plain": [
       "<Figure size 864x360 with 2 Axes>"
      ]
     },
     "metadata": {
      "needs_background": "light"
     },
     "output_type": "display_data"
    },
    {
     "data": {
      "text/plain": [
       "<Figure size 864x216 with 0 Axes>"
      ]
     },
     "metadata": {},
     "output_type": "display_data"
    },
    {
     "data": {
      "image/png": "[encoded data removed]",
      "text/plain": [
       "<Figure size 864x360 with 2 Axes>"
      ]
     },
     "metadata": {
      "needs_background": "light"
     },
     "output_type": "display_data"
    }
   ],
   "source": [
    "# TODO: copy the class files from sklearn   ***************\n",
    "# ~/opt/anaconda3/envs/courses/lib/python3.9/site-packages/sklearn/metrics/_plot/precision_recall_curve.py\n",
    "# requires newer version of sklearn that spports PrecisionRecallDisplay\n",
    "scoring_report.plot()"
   ]
  },
  {
   "cell_type": "code",
   "execution_count": null,
   "metadata": {},
   "outputs": [],
   "source": [
    "#??np.percentile"
   ]
  },
  {
   "cell_type": "code",
   "execution_count": null,
   "metadata": {},
   "outputs": [],
   "source": [
    "#??sklearn.calibration.calibration_curve"
   ]
  },
  {
   "cell_type": "markdown",
   "metadata": {},
   "source": [
    "# Production code\n",
    "* * *"
   ]
  },
  {
   "cell_type": "markdown",
   "metadata": {},
   "source": [
    "#### Uncertainty\n",
    "In the case of a classification task, the uncertainty value represents how unsure the model is in its prediction on a scale of 0 (max confidence) to 1 (no confidence). \n",
    "\n",
    "There are two ways to derive an uncertainty metric:\n",
    "* Probability: an uncertainty measure based on the ratio between the probability values of the 1st and 2nd most probable classes.\n",
    "* Confidence: an uncertainty measure based on a classifier trained on test set predictions.\n",
    "\n",
    "\n",
    "\n"
   ]
  },
  {
   "cell_type": "code",
   "execution_count": 31,
   "metadata": {},
   "outputs": [],
   "source": [
    "def compute_model_uncertainty(classifier, xtest, ytest):\n",
    "    \"\"\"The uncertainty value represents how unsure the model is in its prediction \n",
    "    on a scale of 0 (max confidence) to 1 (no confidence).\"\"\"\n",
    "    \n",
    "    # label encoding: not supported DMD expects numeric \n",
    "#     print(f'ytest: {ytest[:5]}')\n",
    "#     labels = ['0', '1', '2']    \n",
    "#     target_labels={0:labels[0], 1:labels[1], 2:labels[2]}\n",
    "#     ytest = np.asarray([target_labels[y] for y in ytest])\n",
    "#     print(f'ytest: {ytest[:5]}')\n",
    "    print(f'ytest: {ytest[:5]}')\n",
    "    print(f'classifier.classes_: {classifier.classes_}')\n",
    "    \n",
    "    # work with a copy of the model\n",
    "    estimator = copy.deepcopy(classifier)\n",
    "    # ensure reproducibility\n",
    "    np.random.seed(12345) \n",
    "    # split test\n",
    "    test_1st_half_inds, test_2nd_half_inds = sklearn.model_selection.train_test_split(\n",
    "        np.arange(len(xtest)), test_size=0.5)\n",
    "\n",
    "    xtest_1st_half, ytest_1st_half = xtest[test_1st_half_inds,:], ytest[test_1st_half_inds]\n",
    "    xtest_2nd_half, ytest_2nd_half = xtest[test_2nd_half_inds,:], ytest[test_2nd_half_inds]\n",
    "#     print(f'xtest_1st_half: {xtest_1st_half.shape}')\n",
    "#     print(f'ytest_1st_half: {ytest_1st_half.shape}')\n",
    "    \n",
    "    column_names = [f'col_{i+1}' for i in range(len(xtest_1st_half[0]))]\n",
    "\n",
    "    # label de-coding: repro error - expects numeric output\n",
    "#     print(f'estimator.classes_: {estimator.classes_}')\n",
    "#     estimator.classes_ = np.asarray(['0', '1', '2'])\n",
    "#     print(f'estimator.classes_: {estimator.classes_}')\n",
    "    \n",
    "    # define object\n",
    "    pytrust = PyTrust(\n",
    "            model=estimator,\n",
    "            xtest=xtest_1st_half, ytest=ytest_1st_half,\n",
    "            feature_names=column_names,\n",
    "            feature_types=['numerical']*len(column_names),\n",
    "#             target_labels=target_labels,\n",
    "            metric=Metrics.recall)\n",
    "\n",
    "    # compute uncertainty\n",
    "    uncertainty_model = pytrust.create_uncertainty_model(method='confidence')\n",
    "    y_pred = uncertainty_model.predict(xtest_2nd_half)  # same as model.predict\n",
    "    uncertainty = uncertainty_model.uncertainty(xtest_2nd_half) # uncertainty value\n",
    "    preds_uncertainty = np.concatenate([ytest_2nd_half.reshape(-1,1), y_pred.reshape(-1,1), uncertainty.reshape(-1,1)], axis=1)[:10]\n",
    "    #\n",
    "    # print('y_true, y_pred, uncertainty\\n',preds_uncertainty)\n",
    "    mean_uncertainty = round(preds_uncertainty[:,2].mean(),4)\n",
    "    print(f'\\nAvg. uncertainty (confidence method): {mean_uncertainty}')\n",
    "    return mean_uncertainty\n",
    "\n",
    "def compute_quality_metrics(classifier, xtest, ytest):\n",
    "    \"\"\"\n",
    "\n",
    "    \"\"\"\n",
    "    \n",
    "    compute_model_uncertainty(classifier, xtest, ytest)"
   ]
  },
  {
   "cell_type": "code",
   "execution_count": 32,
   "metadata": {},
   "outputs": [],
   "source": [
    "# encoding = dmd.target_encoding  # dict property {index: cls_}\n",
    "# print(f'target classes encoding: {encoding}')\n",
    "# inv_enc = {cls_: index for index, cls_ in encoding.items()}\n",
    "\n",
    "# print(f'y_pred: {y_pred}')\n",
    "# y_pred = numpy.asarray([inv_enc[c] for c in y_pred])\n",
    "# print(f'y_pred decoded: {y_pred}')\n",
    "# return y_pred\n"
   ]
  },
  {
   "cell_type": "code",
   "execution_count": 33,
   "metadata": {},
   "outputs": [],
   "source": [
    "#??DecisionTreeClassifier"
   ]
  },
  {
   "cell_type": "code",
   "execution_count": 34,
   "metadata": {
    "scrolled": true
   },
   "outputs": [
    {
     "name": "stdout",
     "output_type": "stream",
     "text": [
      "ytest: [0 0 1 0 1]\n",
      "classifier.classes_: [1 0]\n",
      "\n",
      "Avg. uncertainty (confidence method): 1.0\n"
     ]
    }
   ],
   "source": [
    "compute_quality_metrics(classifier, xtest, ytest)"
   ]
  },
  {
   "cell_type": "code",
   "execution_count": 35,
   "metadata": {},
   "outputs": [
    {
     "name": "stderr",
     "output_type": "stream",
     "text": [
      "WARNING:root:Lime cannot handle missing values. Fillna=0 was used to coerce the issue.\n"
     ]
    },
    {
     "name": "stdout",
     "output_type": "stream",
     "text": [
      "\n",
      "Let's create a Lime explainer\n",
      "And plot explanation for the first sample in test data: [0.85132344 0.2355672  0.75818347 0.63382511 0.95512603]\n"
     ]
    },
    {
     "name": "stderr",
     "output_type": "stream",
     "text": [
      "WARNING:root:Lime explainer did not converge with 8000 samples\n",
      "WARNING:root:Lime explainer did not converge with 8000 samples\n",
      "WARNING:root:Lime cannot handle missing values. Fillna=0 was used to coerce the issue.\n"
     ]
    },
    {
     "name": "stdout",
     "output_type": "stream",
     "text": [
      "Lime explanation is: {'0.23 < triple importance <= 0.35': -0.677257202857141, '0.73 < regular importance #1 <= 0.89': 0.30355591950547406, 'regular importance #3 > 0.91': 0.29218343871320857, '0.58 < regular importance #2 <= 0.71': 0.16839603236942077, '0.77 < zero importance <= 0.89': 0.02740798540969571}\n",
      "\n",
      "Let's create a Lime explainer\n",
      "And plot explanation for the first sample in test data: [0.85132344 0.2355672  0.75818347 0.63382511 0.95512603]\n"
     ]
    },
    {
     "name": "stderr",
     "output_type": "stream",
     "text": [
      "WARNING:root:Lime explainer did not converge with 8000 samples\n",
      "WARNING:root:Lime explainer did not converge with 8000 samples\n"
     ]
    },
    {
     "name": "stdout",
     "output_type": "stream",
     "text": [
      "Lime explanation is: {'0.23 < triple importance <= 0.35': 0.35350247898066384, '0.58 < regular importance #2 <= 0.71': -0.045367608752545405, 'regular importance #3 > 0.91': 0.04216910925616021, '0.73 < regular importance #1 <= 0.89': 0.023110132289078756, '0.77 < zero importance <= 0.89': -0.02070354986985644}\n"
     ]
    },
    {
     "data": {
      "image/png": "[encoded data removed]",
      "text/plain": [
       "<Figure size 432x288 with 1 Axes>"
      ]
     },
     "metadata": {
      "needs_background": "light"
     },
     "output_type": "display_data"
    },
    {
     "data": {
      "image/png": "[encoded data removed]",
      "text/plain": [
       "<Figure size 432x288 with 1 Axes>"
      ]
     },
     "metadata": {
      "needs_background": "light"
     },
     "output_type": "display_data"
    }
   ],
   "source": [
    "from matplotlib import pyplot as plt\n",
    "\n",
    "from pytolemaic import PyTrust\n",
    "from resources.datasets.linear import LinearRegressionDataset, LinearClassificationDataset\n",
    "\n",
    "\n",
    "def run():\n",
    "    ## For this example we create train/test data representing a linear function\n",
    "    # PyTrust supports both numpy and pandas.DataFrame.\n",
    "\n",
    "    # Obtain simple regression dataset. Use LinearClassificationDataset for classification\n",
    "    for dataset in [LinearRegressionDataset(), LinearClassificationDataset()]:\n",
    "        columns_names = dataset.column_names()\n",
    "\n",
    "        # for quality report, we need for train/test sets and model\n",
    "        xtrain, ytrain = dataset.training_data\n",
    "        xtest, ytest = dataset.get_samples()\n",
    "        estimator = dataset.get_model()\n",
    "\n",
    "        # set the feature names names\n",
    "        pytrust = PyTrust(\n",
    "            model=estimator,\n",
    "            xtrain=xtrain, ytrain=ytrain,\n",
    "            xtest=xtest, ytest=ytest,\n",
    "            feature_names=columns_names,\n",
    "            feature_types=['numerical']*len(columns_names))\n",
    "\n",
    "        sample = xtest[0, :]\n",
    "\n",
    "        # Create explanation for target sample\n",
    "        print(\"\\nLet's create a Lime explainer\")\n",
    "        lime_explainer = pytrust.create_lime_explainer(max_samples=8000)\n",
    "\n",
    "        print(\"And plot explanation for the first sample in test data: {}\".format(sample))\n",
    "        lime_explainer.plot(sample)\n",
    "\n",
    "        explanation = lime_explainer.explain(sample)\n",
    "        print(\"Lime explanation is: {}\".format(explanation))\n",
    "run()"
   ]
  },
  {
   "cell_type": "code",
   "execution_count": 36,
   "metadata": {},
   "outputs": [],
   "source": [
    "import numpy as np\n",
    "\n",
    "# data prep\n",
    "def features_to_indices(features, feature_names):\n",
    "    # prepare feature as indices for pdp quantile plotting\n",
    "    def convert_feature(fx, feature_names):\n",
    "        if isinstance(fx, str):\n",
    "            fx = feature_names.index(fx)\n",
    "        return int(fx)\n",
    "\n",
    "    # convert features into a seq of int\n",
    "    idx_features = []\n",
    "    for fxs in features:\n",
    "        if isinstance(fxs, (int, str)):\n",
    "            fxs = (fxs,)\n",
    "            fxs = [convert_feature(f, feature_names) for f in fxs]\n",
    "        idx_features.append(fxs)\n",
    "    names = []\n",
    "    for fxs in idx_features:\n",
    "        names_ = []\n",
    "        # explicit loop so \"i\" is bound for exception below\n",
    "        for i in fxs:\n",
    "            names_.append(feature_names[i])\n",
    "        names.append(names_)\n",
    "\n",
    "    return idx_features, names"
   ]
  },
  {
   "cell_type": "code",
   "execution_count": 37,
   "metadata": {},
   "outputs": [],
   "source": [
    "from scipy.stats.mstats import mquantiles\n",
    "from matplotlib import transforms\n",
    "# from matplotlib.ticker import MaxNLocator  # noqa\n",
    "# from matplotlib.ticker import ScalarFormatter  # noqa\n",
    "\n",
    "# plotting function\n",
    "def plot_pdp_vlines(X, fx, ax, num_bins=10):\n",
    "    # plot data quantile lines with labels\n",
    "    bin_size= round(1/num_bins,1)\n",
    "    probs = np.arange(bin_size, 1.0, bin_size)\n",
    "    quantiles = mquantiles(X[:, fx[0]], prob=probs)\n",
    "    trans = transforms.blended_transform_factory(ax.transData,\n",
    "                                                 ax.transAxes)\n",
    "    ylim = ax.get_ylim()\n",
    "    ax.vlines(quantiles, ymin=0, ymax=probs, transform=trans,\n",
    "              color=\"tab:red\")\n",
    "    ax.set_ylim(ylim)\n",
    "    print('ylim', ylim)\n",
    "    \n",
    "    # annotate quantile lines\n",
    "    for q, p in zip(quantiles, probs):\n",
    "        bin_label = f'_{p:2.0%}'\n",
    "        ax.annotate(bin_label, xy=(q, p+0.02), xycoords=('data', 'axes fraction'),\n",
    "                    horizontalalignment=\"left\",\n",
    "                    verticalalignment=\"top\",\n",
    "                    color=\"tab:red\")\n",
    "    return ylim\n",
    "#     # prevent x-axis ticks from overlapping\n",
    "#     ax.xaxis.set_major_locator(MaxNLocator(nbins=6, prune='lower'))\n",
    "#     tick_formatter = ScalarFormatter()\n",
    "#     tick_formatter.set_powerlimits((-3, 4))\n",
    "#     ax.xaxis.set_major_formatter(tick_formatter)\n"
   ]
  },
  {
   "cell_type": "code",
   "execution_count": 38,
   "metadata": {
    "scrolled": false
   },
   "outputs": [
    {
     "name": "stdout",
     "output_type": "stream",
     "text": [
      "[[0]]\n",
      "[['feature_one']]\n",
      "ylim (0.0, 1.0)\n"
     ]
    },
    {
     "data": {
      "text/plain": [
       "Text(0.5, 1.0, 'Feature-Target Partial Dependence\\nasdasdsadasd')"
      ]
     },
     "execution_count": 38,
     "metadata": {},
     "output_type": "execute_result"
    },
    {
     "data": {
      "image/png": "[encoded data removed]",
      "text/plain": [
       "<Figure size 1152x648 with 1 Axes>"
      ]
     },
     "metadata": {
      "needs_background": "light"
     },
     "output_type": "display_data"
    }
   ],
   "source": [
    "# test script\n",
    "from matplotlib import pyplot\n",
    "pdp_fig = pyplot.figure(figsize=(16, 9), tight_layout=True)\n",
    "# pdp_fig.subplots_adjust(top=0.96)\n",
    "percentiles=(0.05,0.95)\n",
    "X = np.array([\n",
    "    [0],\n",
    "    [0],\n",
    "    [0],\n",
    "    [0],\n",
    "    [0],\n",
    "    [0],\n",
    "    [0],\n",
    "    [0],\n",
    "    [0],\n",
    "    [0],\n",
    "    [0],\n",
    "    [0],\n",
    "    [0],\n",
    "    [0],\n",
    "    [0],\n",
    "    [0],\n",
    "    [0],\n",
    "    [2],\n",
    "    [3],\n",
    "    [5],\n",
    "    [.5],\n",
    "    [.4],\n",
    "    [10],\n",
    "    [10],\n",
    "    [22],\n",
    "    [13],\n",
    "    [15],\n",
    "    [1.5],\n",
    "    [10.4],\n",
    "    [10.3],\n",
    "])\n",
    "feature_names_list = ['feature_one']\n",
    "feature_name_to_plot = 'feature_one'\n",
    "\n",
    "idx_features, names = features_to_indices([feature_name_to_plot], feature_names_list)\n",
    "\n",
    "print(idx_features)\n",
    "print(names)\n",
    "    \n",
    "n_cols=3\n",
    "n_cols = min(n_cols, len(idx_features))\n",
    "n_rows = int(np.ceil(len(idx_features) / float(n_cols)))\n",
    "axs = []\n",
    "for i, (fx, name) in enumerate(zip(idx_features, names)):\n",
    "    ax = pdp_fig.add_subplot(n_rows, n_cols, i + 1)\n",
    "    ylim = plot_pdp_vlines(X, fx, ax)    \n",
    "    ax.set_xlabel(name[0])\n",
    "    model_name = 'asdasdsadasd'\n",
    "pdp_fig.suptitle(f'Feature-Target Partial Dependence\\n{model_name}', y=1.0, fontsize = 20)"
   ]
  },
  {
   "cell_type": "code",
   "execution_count": 39,
   "metadata": {},
   "outputs": [],
   "source": [
    "# from sklearn.inspection import plot_partial_dependence, partial_dependence\n",
    "# ??plot_partial_dependence"
   ]
  },
  {
   "cell_type": "code",
   "execution_count": null,
   "metadata": {},
   "outputs": [],
   "source": [
    "plt.subplots(1, 2, figsize=(14, 6))"
   ]
  },
  {
   "cell_type": "code",
   "execution_count": null,
   "metadata": {},
   "outputs": [],
   "source": []
  }
 ],
 "metadata": {
  "celltoolbar": "Raw Cell Format",
  "kernelspec": {
   "display_name": "Python [conda env:gds_metrics]",
   "language": "python",
   "name": "conda-env-gds_metrics-py"
  },
  "language_info": {
   "codemirror_mode": {
    "name": "ipython",
    "version": 3
   },
   "file_extension": ".py",
   "mimetype": "text/x-python",
   "name": "python",
   "nbconvert_exporter": "python",
   "pygments_lexer": "ipython3",
   "version": "3.7.3"
  }
 },
 "nbformat": 4,
 "nbformat_minor": 2
}
