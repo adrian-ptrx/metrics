{
 "cells": [
  {
   "cell_type": "code",
   "execution_count": 1,
   "metadata": {},
   "outputs": [],
   "source": [
    "# conda create --name gds_metrics pip ipykernel python==3.7.3\n",
    "# conda activate gds_metrics\n",
    "# pip install -r ~/dev/Pytolemaic_ptrx/requirements.txt\n",
    "# pip install dill \n",
    "# find ~/opt/anaconda3/envs/gds_metrics/ |grep pytol\n"
   ]
  },
  {
   "cell_type": "code",
   "execution_count": 2,
   "metadata": {},
   "outputs": [
    {
     "data": {
      "text/plain": [
       "['/Users/adriansarno/dev/ptx-lab/python_notebooks/metrics',\n",
       " '/Users/adriansarno/dev/ptx-lab/python_notebooks/metrics',\n",
       " '/Users/adriansarno/Library/Python/3.8/bin',\n",
       " '/Users/adriansarno/opt/anaconda3/envs/gds_metrics/lib/python37.zip',\n",
       " '/Users/adriansarno/opt/anaconda3/envs/gds_metrics/lib/python3.7',\n",
       " '/Users/adriansarno/opt/anaconda3/envs/gds_metrics/lib/python3.7/lib-dynload',\n",
       " '',\n",
       " '/Users/adriansarno/opt/anaconda3/envs/gds_metrics/lib/python3.7/site-packages',\n",
       " '/Users/adriansarno/opt/anaconda3/envs/gds_metrics/lib/python3.7/site-packages/IPython/extensions',\n",
       " '/Users/adriansarno/.ipython',\n",
       " '/Users/adriansarno/dev/ptx-lab/python_notebooks/Pytolemaic_ptrx/']"
      ]
     },
     "execution_count": 2,
     "metadata": {},
     "output_type": "execute_result"
    }
   ],
   "source": [
    "# NOT FOR DEV: pip install --no-deps ../Pytolemaic_ptrx/dist/pytolemaic-0.13.14-py3-none-any.whl \n",
    "import sys\n",
    "sys.path.append('/Users/adriansarno/dev/ptx-lab/python_notebooks/Pytolemaic_ptrx/')\n",
    "sys.path"
   ]
  },
  {
   "cell_type": "code",
   "execution_count": 3,
   "metadata": {},
   "outputs": [
    {
     "name": "stdout",
     "output_type": "stream",
     "text": [
      "numpy: 1.19.5,  pandas: 0.25.3,   python: 3.7.3\n"
     ]
    }
   ],
   "source": [
    "import numpy as np\n",
    "import pandas as pd\n",
    "\n",
    "from pprint import pprint\n",
    "from matplotlib import pyplot as plt\n",
    "import copy\n",
    "import dill\n",
    "\n",
    "import sklearn.datasets\n",
    "import sklearn.model_selection\n",
    "from sklearn.tree import DecisionTreeClassifier\n",
    "from sklearn.ensemble import RandomForestRegressor\n",
    "from sklearn.impute import SimpleImputer\n",
    "from sklearn.pipeline import Pipeline\n",
    "from sklearn.model_selection import train_test_split\n",
    "#\n",
    "from pytolemaic.pytrust import PyTrust\n",
    "from pytolemaic.utils.dmd import DMD\n",
    "from pytolemaic import Metrics\n",
    "from pytolemaic import PyTrust\n",
    "from pytolemaic.utils.general import GeneralUtils\n",
    "\n",
    "print(f'numpy: {np.__version__},  pandas: {pd.__version__},   python: {sys.version_info.major}.{sys.version_info.minor}.{sys.version_info.micro}')"
   ]
  },
  {
   "cell_type": "code",
   "execution_count": 4,
   "metadata": {},
   "outputs": [],
   "source": [
    "import warnings\n",
    "warnings.filterwarnings(\"ignore\")"
   ]
  },
  {
   "cell_type": "markdown",
   "metadata": {},
   "source": [
    "## Feature Sensitivity  (1 of 3)\n",
    "* * *"
   ]
  },
  {
   "cell_type": "markdown",
   "metadata": {},
   "source": [
    "#### Recommended Actions\n",
    "\n",
    "Feature Importance Report\n",
    "- Focus effort to improve features with high sensitivity. \n",
    "- Discard features with very low sensitivity as, statistically.\n",
    "\n",
    "Vulnerability Report\n",
    "\n",
    "    Imputation\n",
    "    - High values indicate that the imputation mechanism affects the result and thus is important to ensure that it is working correctly.\n",
    "\n",
    "    Data leakage\n",
    "    - This mean that the model may be paying attentlin to the wrong data. Obviously any leaks must be removed.\n",
    "\n",
    "    Too many features \n",
    "    1.  higher chance for overfitting\n",
    "    2.  waste of effort in the data engineering phase. \n",
    "\n",
    "        Consider performing feature selection or introducing more regularization.\n"
   ]
  },
  {
   "cell_type": "code",
   "execution_count": 5,
   "metadata": {},
   "outputs": [],
   "source": [
    "data = sklearn.datasets.fetch_california_housing(return_X_y=False)\n",
    "\n",
    "x = data['data']\n",
    "y = data['target']\n",
    "feature_names = data['feature_names']\n",
    "\n",
    "train_inds, test_inds = \\\n",
    "    sklearn.model_selection.train_test_split(np.arange(len(data['data'])), test_size=0.3)\n",
    "\n",
    "xtrain, ytrain = x[train_inds], y[train_inds]\n",
    "xtest, ytest = x[test_inds], y[test_inds]\n"
   ]
  },
  {
   "cell_type": "code",
   "execution_count": 6,
   "metadata": {},
   "outputs": [
    {
     "data": {
      "text/plain": [
       "Pipeline(memory=None,\n",
       "         steps=[('Imputer',\n",
       "                 SimpleImputer(add_indicator=False, copy=True, fill_value=None,\n",
       "                               missing_values=nan, strategy='mean',\n",
       "                               verbose=0)),\n",
       "                ('Estimator',\n",
       "                 RandomForestRegressor(bootstrap=True, criterion='mse',\n",
       "                                       max_depth=None, max_features='auto',\n",
       "                                       max_leaf_nodes=None,\n",
       "                                       min_impurity_decrease=0.0,\n",
       "                                       min_impurity_split=None,\n",
       "                                       min_samples_leaf=1, min_samples_split=2,\n",
       "                                       min_weight_fraction_leaf=0.0,\n",
       "                                       n_estimators=100, n_jobs=None,\n",
       "                                       oob_score=False, random_state=0,\n",
       "                                       verbose=0, warm_start=False))],\n",
       "         verbose=False)"
      ]
     },
     "execution_count": 6,
     "metadata": {},
     "output_type": "execute_result"
    }
   ],
   "source": [
    "# Adding imputer before RF to support missing values.\n",
    "# Support missing values is required for calculating sensitivities to missing values \n",
    "steps = []\n",
    "steps.append(('Imputer', SimpleImputer()))\n",
    "steps.append(('Estimator', RandomForestRegressor(random_state=0, n_estimators=100)))\n",
    "estimator = Pipeline(steps=steps)\n",
    "\n",
    "estimator.fit(xtrain, ytrain)"
   ]
  },
  {
   "cell_type": "code",
   "execution_count": 7,
   "metadata": {},
   "outputs": [],
   "source": [
    "pytrust = PyTrust(\n",
    "    model=estimator,\n",
    "    xtrain=xtrain, ytrain=ytrain,\n",
    "    xtest=xtest, ytest=ytest,\n",
    "    columns_meta={DMD.FEATURE_NAMES: feature_names},\n",
    "    metric='mae')"
   ]
  },
  {
   "cell_type": "markdown",
   "metadata": {},
   "source": [
    "\n",
    "- [Required] The trained model, the training set, a holdout testing set and the metric you are using to evaluate the model.\n",
    "* [Optional] Class labels, splitting strategy\n",
    "* [Optional] Columns’ metadata: e.g. feature names, feature types, feature encoding\n",
    "* [Optional] Samples’ metadata: e.g. sample weights\n"
   ]
  },
  {
   "cell_type": "code",
   "execution_count": 8,
   "metadata": {},
   "outputs": [],
   "source": [
    "sensitivity_report = pytrust.sensitivity_report"
   ]
  },
  {
   "cell_type": "code",
   "execution_count": 9,
   "metadata": {},
   "outputs": [
    {
     "name": "stdout",
     "output_type": "stream",
     "text": [
      "{'missing_report': {'method': 'missing',\n",
      "                    'sensitivities': {'AveBedrms': 0.03025,\n",
      "                                      'AveOccup': 0.12981,\n",
      "                                      'AveRooms': 0.05087,\n",
      "                                      'HouseAge': 0.05721,\n",
      "                                      'Latitude': 0.23664,\n",
      "                                      'Longitude': 0.23424,\n",
      "                                      'MedInc': 0.23897,\n",
      "                                      'Population': 0.02201},\n",
      "                    'stats': {'n_features': 8, 'n_low': 0, 'n_very_low': 0, 'n_zero': 0}},\n",
      " 'shuffle_report': {'method': 'shuffled',\n",
      "                    'sensitivities': {'AveBedrms': 0.02677,\n",
      "                                      'AveOccup': 0.13851,\n",
      "                                      'AveRooms': 0.05067,\n",
      "                                      'HouseAge': 0.06329,\n",
      "                                      'Latitude': 0.20398,\n",
      "                                      'Longitude': 0.1861,\n",
      "                                      'MedInc': 0.30743,\n",
      "                                      'Population': 0.02325},\n",
      "                    'stats': {'n_features': 8, 'n_low': 0, 'n_very_low': 0, 'n_zero': 0}},\n",
      " 'vulnerability_report': {'imputation': 0.308501314636284, 'leakage': 0.0, 'too_many_features': 0.0}}\n"
     ]
    }
   ],
   "source": [
    "# use pprint for pretty print.\n",
    "pprint(sensitivity_report.to_dict(), width=120)"
   ]
  },
  {
   "cell_type": "code",
   "execution_count": 10,
   "metadata": {
    "scrolled": true
   },
   "outputs": [
    {
     "data": {
      "image/png": "[encoded data removed]",
      "text/plain": [
       "<Figure size 720x720 with 4 Axes>"
      ]
     },
     "metadata": {
      "needs_background": "light"
     },
     "output_type": "display_data"
    },
    {
     "data": {
      "image/png": "[encoded data removed]",
      "text/plain": [
       "<Figure size 432x288 with 1 Axes>"
      ]
     },
     "metadata": {
      "needs_background": "light"
     },
     "output_type": "display_data"
    }
   ],
   "source": [
    "sensitivity_report.plot()"
   ]
  },
  {
   "cell_type": "code",
   "execution_count": 11,
   "metadata": {
    "scrolled": true
   },
   "outputs": [
    {
     "name": "stdout",
     "output_type": "stream",
     "text": [
      "{'missing_report': {'method': 'Method used to calculate sensitivity',\n",
      "                    'sensitivities': 'key-value dictionary where the key is feature name and value '\n",
      "                                     'is feature sensitivity',\n",
      "                    'stats': {'n_features': 'Number of features in dataset',\n",
      "                              'n_low': 'Number of feature with low sensitivity (sensitivity lower '\n",
      "                                       'than 5% of max sensitivity)',\n",
      "                              'n_very_low': 'Number of feature with low sensitivity (sensitivity '\n",
      "                                            'lower than 5% of max sensitivity)',\n",
      "                              'n_zero': 'Number of feature with zero sensitivity'}},\n",
      " 'shuffle_report': {'method': 'Method used to calculate sensitivity',\n",
      "                    'sensitivities': 'key-value dictionary where the key is feature name and value '\n",
      "                                     'is feature sensitivity',\n",
      "                    'stats': {'n_features': 'Number of features in dataset',\n",
      "                              'n_low': 'Number of feature with low sensitivity (sensitivity lower '\n",
      "                                       'than 5% of max sensitivity)',\n",
      "                              'n_very_low': 'Number of feature with low sensitivity (sensitivity '\n",
      "                                            'lower than 5% of max sensitivity)',\n",
      "                              'n_zero': 'Number of feature with zero sensitivity'}},\n",
      " 'vulnerability_report': {'imputation': 'Sensitivity of the features should be similar in all '\n",
      "                                        'methods. If not, this may indicate an issue with the '\n",
      "                                        'imputation process. Higher value means the imputation '\n",
      "                                        'process has higher impact on the model.',\n",
      "                          'leakage': 'Measure how likely the model is prone to data leakage.',\n",
      "                          'too_many_features': \"Using many features slow down model's training, \"\n",
      "                                               'affect data pipeline and preprocessing and may '\n",
      "                                               'also make model more susceptible to overfit. '\n",
      "                                               'Higher value means there are many redundant '\n",
      "                                               'features in dataset.'}}\n"
     ]
    }
   ],
   "source": [
    "pprint(sensitivity_report.to_dict_meaning(), width=100)"
   ]
  },
  {
   "cell_type": "markdown",
   "metadata": {},
   "source": [
    "# Scoring Reports\n",
    "* * *"
   ]
  },
  {
   "cell_type": "markdown",
   "metadata": {},
   "source": [
    "##  Regression (2 of 3)"
   ]
  },
  {
   "cell_type": "markdown",
   "metadata": {},
   "source": [
    "In the case of a regression task, the uncertainty value represents an error bar, having the same scale as the target variable."
   ]
  },
  {
   "cell_type": "markdown",
   "metadata": {},
   "source": [
    "#### Regression Metrics\n",
    "* MAE: an estimation of the absolute error based on a regressor trained on the absolute error of the test set predictions.\n",
    "* RMSE: an estimation of the absolute error based on a regressor trained on the squared error of the test set predictions."
   ]
  },
  {
   "cell_type": "code",
   "execution_count": 12,
   "metadata": {},
   "outputs": [
    {
     "name": "stderr",
     "output_type": "stream",
     "text": [
      "WARNING:root:Feature types are not available, skipping label encoding\n",
      "WARNING:root:Feature types are not available, skipping label encoding\n"
     ]
    },
    {
     "name": "stdout",
     "output_type": "stream",
     "text": [
      "{'classification_report': None,\n",
      " 'confusion_matrix': None,\n",
      " 'metric_scores': {'mae': {'ci_high': 0.34039, 'ci_low': 0.33285, 'ci_ratio': 0.022399144435862533, 'value': 0.33766},\n",
      "                   'mape': {'ci_high': 0.18839, 'ci_low': 0.18395, 'ci_ratio': 0.02384917011333727, 'value': 0.18504},\n",
      "                   'mse': {'ci_high': 0.26448, 'ci_low': 0.2557, 'ci_ratio': 0.033757545465031374, 'value': 0.25993},\n",
      "                   'normalized_rmse': {'ci_high': 0.44519,\n",
      "                                       'ci_low': 0.43751,\n",
      "                                       'ci_ratio': 0.01740115554548536,\n",
      "                                       'value': 0.43955},\n",
      "                   'r2': {'ci_high': 0.80858, 'ci_low': 0.8018, 'ci_ratio': 0.03480314152250915, 'value': 0.8068},\n",
      "                   'rmse': {'ci_high': 0.51428, 'ci_low': 0.50567, 'ci_ratio': 0.016883180548066097, 'value': 0.50983}},\n",
      " 'scatter': {'error_bars': array([0.39556026, 0.54445205, 0.22198485, ..., 0.31007722, 0.68801109,\n",
      "       0.21857853]),\n",
      "             'y_pred': array([3.1397007 , 3.6235103 , 2.46365011, ..., 0.87511   , 4.31765251,\n",
      "       2.01752   ]),\n",
      "             'y_true': array([3.415, 3.194, 1.494, ..., 0.682, 4.391, 1.96 ])},\n",
      " 'target_metric': 'mae'}\n"
     ]
    }
   ],
   "source": [
    "scoring_report = pytrust.scoring_report\n",
    "\n",
    "pprint(scoring_report.to_dict(), width=120)\n"
   ]
  },
  {
   "cell_type": "code",
   "execution_count": 13,
   "metadata": {},
   "outputs": [
    {
     "name": "stdout",
     "output_type": "stream",
     "text": [
      "{'classification_report': \"Sklearn's classification report\",\n",
      " 'confusion_matrix': 'Confusion matrix (y_true vs y_pred). Available only for classifiers.',\n",
      " 'metric_scores': 'Score information for various metrics saved in a dict structure where key is the metric name and '\n",
      "                  'value is of type ScoringMetricReport',\n",
      " 'scatter': 'Scatter information (y_true vs y_pred). Available only for regressors.',\n",
      " 'target_metric': 'Metric of interest'}\n"
     ]
    }
   ],
   "source": [
    "pprint(scoring_report.to_dict_meaning(), width=120)"
   ]
  },
  {
   "cell_type": "code",
   "execution_count": 14,
   "metadata": {},
   "outputs": [],
   "source": [
    "# scoring_report.plot()"
   ]
  },
  {
   "cell_type": "markdown",
   "metadata": {},
   "source": [
    "## Classification (3 0f 3)"
   ]
  },
  {
   "cell_type": "code",
   "execution_count": 15,
   "metadata": {},
   "outputs": [],
   "source": [
    "# Dataset: xtrain, ytrain, xtest, ytest\n",
    "data = sklearn.datasets.load_wine(return_X_y=False)\n",
    "\n",
    "x = data['data']\n",
    "y = data['target']\n",
    "feature_names = data['feature_names']\n",
    "labels = data['target_names']\n",
    "\n",
    "train_inds, test_inds = sklearn.model_selection.train_test_split(\n",
    "    np.arange(len(data['data'])), test_size=0.3)\n",
    "\n",
    "xtrain, ytrain = x[train_inds], y[train_inds]\n",
    "xtest, ytest = x[test_inds], y[test_inds]"
   ]
  },
  {
   "cell_type": "code",
   "execution_count": 16,
   "metadata": {},
   "outputs": [
    {
     "data": {
      "text/plain": [
       "DecisionTreeClassifier(class_weight=None, criterion='gini', max_depth=None,\n",
       "                       max_features=None, max_leaf_nodes=None,\n",
       "                       min_impurity_decrease=0.0, min_impurity_split=None,\n",
       "                       min_samples_leaf=1, min_samples_split=2,\n",
       "                       min_weight_fraction_leaf=0.0, presort=False,\n",
       "                       random_state=None, splitter='best')"
      ]
     },
     "execution_count": 16,
     "metadata": {},
     "output_type": "execute_result"
    }
   ],
   "source": [
    "# Train estimator\n",
    "estimator = DecisionTreeClassifier()\n",
    "estimator.fit(xtrain, ytrain)"
   ]
  },
  {
   "cell_type": "code",
   "execution_count": 17,
   "metadata": {},
   "outputs": [],
   "source": [
    "# Initiating PyTrust\n",
    "pytrust = PyTrust(\n",
    "    model=estimator,\n",
    "    xtrain=xtrain, ytrain=ytrain,\n",
    "    xtest=xtest, ytest=ytest,\n",
    "    metric='recall')"
   ]
  },
  {
   "cell_type": "code",
   "execution_count": 18,
   "metadata": {},
   "outputs": [
    {
     "name": "stdout",
     "output_type": "stream",
     "text": [
      "{'classification_report': {'calibration_curve': {'brier_loss': {0: 0.037037037037037035,\n",
      "                                                                1: 0.07407407407407407,\n",
      "                                                                2: 0.037037037037037035},\n",
      "                                                 'calibration_curve': {0: {'fraction_of_positives': array([0.05128205, 1.        ]),\n",
      "                                                                           'mean_predicted_value': array([0., 1.])},\n",
      "                                                                       1: {'fraction_of_positives': array([0.03125   , 0.86363636]),\n",
      "                                                                           'mean_predicted_value': array([0., 1.])},\n",
      "                                                                       2: {'fraction_of_positives': array([0.02702703, 0.94117647]),\n",
      "                                                                           'mean_predicted_value': array([0., 1.])}},\n",
      "                                                 'labels': [0, 1, 2]},\n",
      "                           'labels': [0, 1, 2],\n",
      "                           'precision_recall_curve': {'average_precision': {0: 0.9193899782135077,\n",
      "                                                                            1: 0.8389730639730639,\n",
      "                                                                            2: 0.9043316673074459},\n",
      "                                                      'labels': [0, 1, 2],\n",
      "                                                      'recall_precision_curve': {0: {'precision': array([0.31481481, 1.        , 1.        ]),\n",
      "                                                                                     'recall': array([1.        , 0.88235294, 0.        ]),\n",
      "                                                                                     'thresholds': array([0., 1.])},\n",
      "                                                                                 1: {'precision': array([0.37037037, 0.86363636, 1.        ]),\n",
      "                                                                                     'recall': array([1.  , 0.95, 0.  ]),\n",
      "                                                                                     'thresholds': array([0., 1.])},\n",
      "                                                                                 2: {'precision': array([0.31481481, 0.94117647, 1.        ]),\n",
      "                                                                                     'recall': array([1.        , 0.94117647, 0.        ]),\n",
      "                                                                                     'thresholds': array([0., 1.])}}},\n",
      "                           'roc_curve': {'auc': {0: 0.9411764705882353,\n",
      "                                                 1: 0.9308823529411764,\n",
      "                                                 2: 0.9570747217806042},\n",
      "                                         'labels': [0, 1, 2],\n",
      "                                         'roc_curve': {0: {'fpr': array([0., 0., 1.]),\n",
      "                                                           'thresholds': array([2., 1., 0.]),\n",
      "                                                           'tpr': array([0.        , 0.88235294, 1.        ])},\n",
      "                                                       1: {'fpr': array([0.        , 0.08823529, 1.        ]),\n",
      "                                                           'thresholds': array([2., 1., 0.]),\n",
      "                                                           'tpr': array([0.  , 0.95, 1.  ])},\n",
      "                                                       2: {'fpr': array([0.        , 0.02702703, 1.        ]),\n",
      "                                                           'thresholds': array([2., 1., 0.]),\n",
      "                                                           'tpr': array([0.        , 0.94117647, 1.        ])}}},\n",
      "                           'sklearn_performance_summary': {0: {'f1-score': 0.9375,\n",
      "                                                               'precision': 1.0,\n",
      "                                                               'recall': 0.8823529411764706,\n",
      "                                                               'support': 17},\n",
      "                                                           1: {'f1-score': 0.9047619047619048,\n",
      "                                                               'precision': 0.8636363636363636,\n",
      "                                                               'recall': 0.95,\n",
      "                                                               'support': 20},\n",
      "                                                           2: {'f1-score': 0.9411764705882353,\n",
      "                                                               'precision': 0.9411764705882353,\n",
      "                                                               'recall': 0.9411764705882353,\n",
      "                                                               'support': 17},\n",
      "                                                           'accuracy': 0.9259259259259259,\n",
      "                                                           'macro avg': {'f1-score': 0.9278127917833799,\n",
      "                                                                         'precision': 0.9349376114081996,\n",
      "                                                                         'recall': 0.9245098039215686,\n",
      "                                                                         'support': 54},\n",
      "                                                           'weighted avg': {'f1-score': 0.9265321869488536,\n",
      "                                                                            'precision': 0.930976430976431,\n",
      "                                                                            'recall': 0.9259259259259259,\n",
      "                                                                            'support': 54}}},\n",
      " 'confusion_matrix': {'confusion_matrix': [[15, 2, 0], [0, 19, 1], [0, 1, 16]],\n",
      "                      'labels': [0, 1, 2],\n",
      "                      'normalized_confusion_matrix': [[0.882, 0.118, 0.0],\n",
      "                                                      [0.0, 0.95, 0.05],\n",
      "                                                      [0.0, 0.059, 0.941]]},\n",
      " 'metric_scores': {'auc': {'ci_high': 0.9674755051593287,\n",
      "                           'ci_low': 0.9342937381047137,\n",
      "                           'ci_ratio': 0.675588138729439,\n",
      "                           'value': 0.9430445151033386},\n",
      "                   'recall': {'ci_high': 0.9583714896214897,\n",
      "                              'ci_low': 0.9133107633107633,\n",
      "                              'ci_ratio': 0.702330384384569,\n",
      "                              'value': 0.9245098039215686}},\n",
      " 'scatter': None,\n",
      " 'target_metric': 'recall'}\n"
     ]
    }
   ],
   "source": [
    "scoring_report = pytrust.scoring_report\n",
    "pprint(scoring_report.to_dict(), width=100)"
   ]
  },
  {
   "cell_type": "code",
   "execution_count": 19,
   "metadata": {},
   "outputs": [],
   "source": [
    "# TODO: copy the class files from sklearn   ***************\n",
    "# requires newer version of sklearn that spports PrecisionRecallDisplay\n",
    "# scoring_report.plot()"
   ]
  },
  {
   "cell_type": "markdown",
   "metadata": {},
   "source": [
    "#### Iris"
   ]
  },
  {
   "cell_type": "code",
   "execution_count": 20,
   "metadata": {},
   "outputs": [],
   "source": [
    "data = sklearn.datasets.load_iris(return_X_y=False)\n",
    "\n",
    "x = data['data']\n",
    "y = data['target']\n",
    "feature_names = data['feature_names']\n",
    "labels = data['target_names']\n",
    "\n",
    "train_inds, test_inds = sklearn.model_selection.train_test_split(\n",
    "    np.arange(len(data['data'])), test_size=0.3)\n",
    "\n",
    "xtrain, ytrain = x[train_inds], y[train_inds]\n",
    "xtest, ytest = x[test_inds], y[test_inds]"
   ]
  },
  {
   "cell_type": "code",
   "execution_count": 21,
   "metadata": {},
   "outputs": [
    {
     "data": {
      "text/plain": [
       "DecisionTreeClassifier(class_weight=None, criterion='gini', max_depth=None,\n",
       "                       max_features=None, max_leaf_nodes=None,\n",
       "                       min_impurity_decrease=0.0, min_impurity_split=None,\n",
       "                       min_samples_leaf=1, min_samples_split=2,\n",
       "                       min_weight_fraction_leaf=0.0, presort=False,\n",
       "                       random_state=None, splitter='best')"
      ]
     },
     "execution_count": 21,
     "metadata": {},
     "output_type": "execute_result"
    }
   ],
   "source": [
    "# Train estimator\n",
    "classifier = DecisionTreeClassifier()\n",
    "classifier.fit(xtrain, ytrain)"
   ]
  },
  {
   "cell_type": "code",
   "execution_count": 22,
   "metadata": {},
   "outputs": [],
   "source": [
    "# Initiating PyTrust\n",
    "pytrust = PyTrust(\n",
    "    model=classifier,\n",
    "    xtrain=xtrain, ytrain=ytrain,\n",
    "    xtest=xtest, ytest=ytest,\n",
    "    metric='recall')"
   ]
  },
  {
   "cell_type": "code",
   "execution_count": 23,
   "metadata": {},
   "outputs": [
    {
     "name": "stdout",
     "output_type": "stream",
     "text": [
      "{'classification_report': {'calibration_curve': {'brier_loss': {0: 0.0,\n",
      "                                                                1: 0.044444444444444446,\n",
      "                                                                2: 0.044444444444444446},\n",
      "                                                 'calibration_curve': {0: {'fraction_of_positives': array([0., 1.]),\n",
      "                                                                           'mean_predicted_value': array([0., 1.])},\n",
      "                                                                       1: {'fraction_of_positives': array([0.03448276, 0.9375    ]),\n",
      "                                                                           'mean_predicted_value': array([0., 1.])},\n",
      "                                                                       2: {'fraction_of_positives': array([0.03225806, 0.92857143]),\n",
      "                                                                           'mean_predicted_value': array([0., 1.])}},\n",
      "                                                 'labels': [0, 1, 2]},\n",
      "                           'labels': [0, 1, 2],\n",
      "                           'precision_recall_curve': {'average_precision': {0: 1.0,\n",
      "                                                                            1: 0.9011284722222223,\n",
      "                                                                            2: 0.8844671201814059},\n",
      "                                                      'labels': [0, 1, 2],\n",
      "                                                      'recall_precision_curve': {0: {'precision': array([1., 1.]),\n",
      "                                                                                     'recall': array([1., 0.]),\n",
      "                                                                                     'thresholds': array([1.])},\n",
      "                                                                                 1: {'precision': array([0.35555556, 0.9375    , 1.        ]),\n",
      "                                                                                     'recall': array([1.    , 0.9375, 0.    ]),\n",
      "                                                                                     'thresholds': array([0., 1.])},\n",
      "                                                                                 2: {'precision': array([0.31111111, 0.92857143, 1.        ]),\n",
      "                                                                                     'recall': array([1.        , 0.92857143, 0.        ]),\n",
      "                                                                                     'thresholds': array([0., 1.])}}},\n",
      "                           'roc_curve': {'auc': {0: 1.0,\n",
      "                                                 1: 0.9515086206896552,\n",
      "                                                 2: 0.9481566820276498},\n",
      "                                         'labels': [0, 1, 2],\n",
      "                                         'roc_curve': {0: {'fpr': array([0., 0., 1.]),\n",
      "                                                           'thresholds': array([2., 1., 0.]),\n",
      "                                                           'tpr': array([0., 1., 1.])},\n",
      "                                                       1: {'fpr': array([0.        , 0.03448276, 1.        ]),\n",
      "                                                           'thresholds': array([2., 1., 0.]),\n",
      "                                                           'tpr': array([0.    , 0.9375, 1.    ])},\n",
      "                                                       2: {'fpr': array([0.        , 0.03225806, 1.        ]),\n",
      "                                                           'thresholds': array([2., 1., 0.]),\n",
      "                                                           'tpr': array([0.        , 0.92857143, 1.        ])}}},\n",
      "                           'sklearn_performance_summary': {0: {'f1-score': 1.0,\n",
      "                                                               'precision': 1.0,\n",
      "                                                               'recall': 1.0,\n",
      "                                                               'support': 15},\n",
      "                                                           1: {'f1-score': 0.9375,\n",
      "                                                               'precision': 0.9375,\n",
      "                                                               'recall': 0.9375,\n",
      "                                                               'support': 16},\n",
      "                                                           2: {'f1-score': 0.9285714285714286,\n",
      "                                                               'precision': 0.9285714285714286,\n",
      "                                                               'recall': 0.9285714285714286,\n",
      "                                                               'support': 14},\n",
      "                                                           'accuracy': 0.9555555555555556,\n",
      "                                                           'macro avg': {'f1-score': 0.9553571428571429,\n",
      "                                                                         'precision': 0.9553571428571429,\n",
      "                                                                         'recall': 0.9553571428571429,\n",
      "                                                                         'support': 45},\n",
      "                                                           'weighted avg': {'f1-score': 0.9555555555555556,\n",
      "                                                                            'precision': 0.9555555555555556,\n",
      "                                                                            'recall': 0.9555555555555556,\n",
      "                                                                            'support': 45}}},\n",
      " 'confusion_matrix': {'confusion_matrix': [[15, 0, 0], [0, 15, 1], [0, 1, 13]],\n",
      "                      'labels': [0, 1, 2],\n",
      "                      'normalized_confusion_matrix': [[1.0, 0.0, 0.0],\n",
      "                                                      [0.0, 0.938, 0.062],\n",
      "                                                      [0.0, 0.071, 0.929]]},\n",
      " 'metric_scores': {'auc': {'ci_high': 0.9846778131596231,\n",
      "                           'ci_low': 0.9610175666627281,\n",
      "                           'ci_ratio': 0.8713898161701285,\n",
      "                           'value': 0.9665551009057683},\n",
      "                   'recall': {'ci_high': 0.9806644880174292,\n",
      "                              'ci_low': 0.9444749694749695,\n",
      "                              'ci_ratio': 0.9668516238386891,\n",
      "                              'value': 0.9553571428571429}},\n",
      " 'scatter': None,\n",
      " 'target_metric': 'recall'}\n"
     ]
    }
   ],
   "source": [
    "scoring_report = pytrust.scoring_report\n",
    "pprint(scoring_report.to_dict(), width=100)"
   ]
  },
  {
   "cell_type": "code",
   "execution_count": 24,
   "metadata": {},
   "outputs": [],
   "source": [
    "# TODO: copy the class files from sklearn   ***************\n",
    "# ~/opt/anaconda3/envs/courses/lib/python3.9/site-packages/sklearn/metrics/_plot/precision_recall_curve.py\n",
    "# requires newer version of sklearn that spports PrecisionRecallDisplay\n",
    "# scoring_report.plot()"
   ]
  },
  {
   "cell_type": "markdown",
   "metadata": {},
   "source": [
    "# Production code\n",
    "* * *"
   ]
  },
  {
   "cell_type": "markdown",
   "metadata": {},
   "source": [
    "#### Uncertainty\n",
    "In the case of a classification task, the uncertainty value represents how unsure the model is in its prediction on a scale of 0 (max confidence) to 1 (no confidence). \n",
    "\n",
    "There are two ways to derive an uncertainty metric:\n",
    "* Probability: an uncertainty measure based on the ratio between the probability values of the 1st and 2nd most probable classes.\n",
    "* Confidence: an uncertainty measure based on a classifier trained on test set predictions.\n",
    "\n",
    "\n",
    "\n"
   ]
  },
  {
   "cell_type": "code",
   "execution_count": 25,
   "metadata": {},
   "outputs": [],
   "source": [
    "def compute_model_uncertainty(classifier, xtest, ytest):\n",
    "    \"\"\"The uncertainty value represents how unsure the model is in its prediction \n",
    "    on a scale of 0 (max confidence) to 1 (no confidence).\"\"\"\n",
    "    \n",
    "    # label encoding: not supported DMD expects numeric \n",
    "#     print(f'ytest: {ytest[:5]}')\n",
    "#     labels = ['0', '1', '2']    \n",
    "#     target_labels={0:labels[0], 1:labels[1], 2:labels[2]}\n",
    "#     ytest = np.asarray([target_labels[y] for y in ytest])\n",
    "#     print(f'ytest: {ytest[:5]}')\n",
    "    print(f'ytest: {ytest[:5]}')\n",
    "    print(f'classifier.classes_: {classifier.classes_}')\n",
    "    \n",
    "    # work with a copy of the model\n",
    "    estimator = copy.deepcopy(classifier)\n",
    "    # ensure reproducibility\n",
    "    np.random.seed(12345) \n",
    "    # split test\n",
    "    test_1st_half_inds, test_2nd_half_inds = sklearn.model_selection.train_test_split(\n",
    "        np.arange(len(xtest)), test_size=0.5)\n",
    "\n",
    "    xtest_1st_half, ytest_1st_half = xtest[test_1st_half_inds,:], ytest[test_1st_half_inds]\n",
    "    xtest_2nd_half, ytest_2nd_half = xtest[test_2nd_half_inds,:], ytest[test_2nd_half_inds]\n",
    "#     print(f'xtest_1st_half: {xtest_1st_half.shape}')\n",
    "#     print(f'ytest_1st_half: {ytest_1st_half.shape}')\n",
    "    \n",
    "    column_names = [f'col_{i+1}' for i in range(len(xtest_1st_half[0]))]\n",
    "\n",
    "    # label de-coding: repro error - expects numeric output\n",
    "#     print(f'estimator.classes_: {estimator.classes_}')\n",
    "#     estimator.classes_ = np.asarray(['0', '1', '2'])\n",
    "#     print(f'estimator.classes_: {estimator.classes_}')\n",
    "    \n",
    "    # define object\n",
    "    pytrust = PyTrust(\n",
    "            model=estimator,\n",
    "            xtest=xtest_1st_half, ytest=ytest_1st_half,\n",
    "            feature_names=column_names,\n",
    "            feature_types=['numerical']*len(column_names),\n",
    "#             target_labels=target_labels,\n",
    "            metric=Metrics.recall)\n",
    "\n",
    "    # compute uncertainty\n",
    "    uncertainty_model = pytrust.create_uncertainty_model(method='confidence')\n",
    "    y_pred = uncertainty_model.predict(xtest_2nd_half)  # same as model.predict\n",
    "    uncertainty = uncertainty_model.uncertainty(xtest_2nd_half) # uncertainty value\n",
    "    preds_uncertainty = np.concatenate([ytest_2nd_half.reshape(-1,1), y_pred.reshape(-1,1), uncertainty.reshape(-1,1)], axis=1)[:10]\n",
    "    #\n",
    "    # print('y_true, y_pred, uncertainty\\n',preds_uncertainty)\n",
    "    mean_uncertainty = round(preds_uncertainty[:,2].mean(),4)\n",
    "    print(f'\\nAvg. uncertainty (confidence method): {mean_uncertainty}')\n",
    "    \n",
    "    return mean_uncertainty\n",
    "\n",
    "\n",
    "def compute_quality_metrics(classifier, xtest, ytest):\n",
    "    \"\"\"\n",
    "\n",
    "    \"\"\"\n",
    "    \n",
    "    compute_model_uncertainty(classifier, xtest, ytest)"
   ]
  },
  {
   "cell_type": "code",
   "execution_count": 26,
   "metadata": {},
   "outputs": [],
   "source": [
    "# encoding = dmd.target_encoding  # dict property {index: cls_}\n",
    "# print(f'target classes encoding: {encoding}')\n",
    "# inv_enc = {cls_: index for index, cls_ in encoding.items()}\n",
    "\n",
    "# print(f'y_pred: {y_pred}')\n",
    "# y_pred = numpy.asarray([inv_enc[c] for c in y_pred])\n",
    "# print(f'y_pred decoded: {y_pred}')\n",
    "# return y_pred\n"
   ]
  },
  {
   "cell_type": "code",
   "execution_count": 27,
   "metadata": {},
   "outputs": [],
   "source": [
    "#??DecisionTreeClassifier"
   ]
  },
  {
   "cell_type": "code",
   "execution_count": 28,
   "metadata": {},
   "outputs": [
    {
     "name": "stdout",
     "output_type": "stream",
     "text": [
      "ytest: [2 0 0 1 1]\n",
      "classifier.classes_: [0 1 2]\n",
      "\n",
      "Avg. uncertainty (confidence method): 0.113\n"
     ]
    }
   ],
   "source": [
    "compute_quality_metrics(classifier, xtest, ytest)"
   ]
  },
  {
   "cell_type": "code",
   "execution_count": 29,
   "metadata": {},
   "outputs": [
    {
     "name": "stderr",
     "output_type": "stream",
     "text": [
      "WARNING:root:Lime cannot handle missing values. Fillna=0 was used to coerce the issue.\n"
     ]
    },
    {
     "name": "stdout",
     "output_type": "stream",
     "text": [
      "\n",
      "Let's create a Lime explainer\n",
      "And plot explanation for the first sample in test data: [0.85132344 0.2355672  0.75818347 0.63382511 0.95512603]\n"
     ]
    },
    {
     "name": "stderr",
     "output_type": "stream",
     "text": [
      "WARNING:root:Lime explainer did not converge with 8000 samples\n",
      "WARNING:root:Lime explainer did not converge with 8000 samples\n",
      "WARNING:root:Lime cannot handle missing values. Fillna=0 was used to coerce the issue.\n"
     ]
    },
    {
     "name": "stdout",
     "output_type": "stream",
     "text": [
      "Lime explanation is: {'0.23 < triple importance <= 0.35': -0.677257202857141, '0.73 < regular importance #1 <= 0.89': 0.30355591950547406, 'regular importance #3 > 0.91': 0.29218343871320857, '0.58 < regular importance #2 <= 0.71': 0.16839603236942077, '0.77 < zero importance <= 0.89': 0.02740798540969571}\n",
      "\n",
      "Let's create a Lime explainer\n",
      "And plot explanation for the first sample in test data: [0.85132344 0.2355672  0.75818347 0.63382511 0.95512603]\n"
     ]
    },
    {
     "name": "stderr",
     "output_type": "stream",
     "text": [
      "WARNING:root:Lime explainer did not converge with 8000 samples\n",
      "WARNING:root:Lime explainer did not converge with 8000 samples\n"
     ]
    },
    {
     "name": "stdout",
     "output_type": "stream",
     "text": [
      "Lime explanation is: {'0.23 < triple importance <= 0.35': 0.35350247898066384, '0.58 < regular importance #2 <= 0.71': -0.045367608752545405, 'regular importance #3 > 0.91': 0.04216910925616021, '0.73 < regular importance #1 <= 0.89': 0.023110132289078756, '0.77 < zero importance <= 0.89': -0.02070354986985644}\n"
     ]
    },
    {
     "data": {
      "image/png": "[encoded data removed]",
      "text/plain": [
       "<Figure size 432x288 with 1 Axes>"
      ]
     },
     "metadata": {
      "needs_background": "light"
     },
     "output_type": "display_data"
    },
    {
     "data": {
      "image/png": "[encoded data removed]",
      "text/plain": [
       "<Figure size 432x288 with 1 Axes>"
      ]
     },
     "metadata": {
      "needs_background": "light"
     },
     "output_type": "display_data"
    }
   ],
   "source": [
    "from matplotlib import pyplot as plt\n",
    "\n",
    "from pytolemaic import PyTrust\n",
    "from resources.datasets.linear import LinearRegressionDataset, LinearClassificationDataset\n",
    "\n",
    "\n",
    "def run():\n",
    "    ## For this example we create train/test data representing a linear function\n",
    "    # PyTrust supports both numpy and pandas.DataFrame.\n",
    "\n",
    "    # Obtain simple regression dataset. Use LinearClassificationDataset for classification\n",
    "    for dataset in [LinearRegressionDataset(), LinearClassificationDataset()]:\n",
    "        columns_names = dataset.column_names()\n",
    "\n",
    "        # for quality report, we need for train/test sets and model\n",
    "        xtrain, ytrain = dataset.training_data\n",
    "        xtest, ytest = dataset.get_samples()\n",
    "        estimator = dataset.get_model()\n",
    "\n",
    "        # set the feature names names\n",
    "        pytrust = PyTrust(\n",
    "            model=estimator,\n",
    "            xtrain=xtrain, ytrain=ytrain,\n",
    "            xtest=xtest, ytest=ytest,\n",
    "            feature_names=columns_names,\n",
    "            feature_types=['numerical']*len(columns_names))\n",
    "\n",
    "        sample = xtest[0, :]\n",
    "\n",
    "        # Create explanation for target sample\n",
    "        print(\"\\nLet's create a Lime explainer\")\n",
    "        lime_explainer = pytrust.create_lime_explainer(max_samples=8000)\n",
    "\n",
    "        print(\"And plot explanation for the first sample in test data: {}\".format(sample))\n",
    "        lime_explainer.plot(sample)\n",
    "\n",
    "        explanation = lime_explainer.explain(sample)\n",
    "        print(\"Lime explanation is: {}\".format(explanation))\n",
    "run()"
   ]
  }
 ],
 "metadata": {
  "celltoolbar": "Raw Cell Format",
  "kernelspec": {
   "display_name": "Python [conda env:gds_metrics]",
   "language": "python",
   "name": "conda-env-gds_metrics-py"
  },
  "language_info": {
   "codemirror_mode": {
    "name": "ipython",
    "version": 3
   },
   "file_extension": ".py",
   "mimetype": "text/x-python",
   "name": "python",
   "nbconvert_exporter": "python",
   "pygments_lexer": "ipython3",
   "version": "3.7.3"
  }
 },
 "nbformat": 4,
 "nbformat_minor": 2
}
